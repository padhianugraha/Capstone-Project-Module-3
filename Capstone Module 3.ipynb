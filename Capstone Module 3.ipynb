{
 "cells": [
  {
   "cell_type": "markdown",
   "id": "b9f46e7f",
   "metadata": {},
   "source": [
    "### **Contents**\n",
    "\n",
    "1. Business Problem Understanding\n",
    "2. Data Understanding\n",
    "3. Data Preprocessing\n",
    "4. Modeling\n",
    "5. Conclusion\n",
    "6. Recommendation"
   ]
  },
  {
   "cell_type": "markdown",
   "id": "2527bd8b",
   "metadata": {},
   "source": [
    "### **Business Problem Understanding**"
   ]
  },
  {
   "cell_type": "markdown",
   "id": "9050d21b",
   "metadata": {},
   "source": [
    "**Context**\n",
    "\n",
    "California adalah negara bagian yang paling banyak penduduknya dan ketiga terluas wilayahnya di Amerika Serikat. Banyaknya penduduk California disebabkan California merupakan salah satu wilayah perputaran perekonomian terbesar dari segi pertanian, entertainment dan wisata. Pada dataset ini membahas tentang harga rumah-rumah yang berada di distrik California.\n",
    "\n",
    "1. longitude: Ukuran seberapa jauh ke barat sebuah rumah; nilai yang lebih tinggi lebih jauh ke barat\n",
    "\n",
    "2. latitude: Ukuran seberapa jauh ke utara sebuah rumah; nilai yang lebih tinggi lebih jauh ke utara\n",
    "\n",
    "3. housingMedianAge: Usia rata-rata sebuah rumah dalam satu blok; angka yang lebih rendah adalah bangunan yang lebih baru\n",
    "\n",
    "4. totalRooms: Jumlah total kamar dalam satu blok\n",
    "\n",
    "5. totalBedrooms: Jumlah total kamar tidur dalam satu blok\n",
    "\n",
    "6. population: Jumlah total orang yang tinggal dalam satu blok\n",
    "\n",
    "7. households: Jumlah total rumah tangga, sekelompok orang yang tinggal dalam satu unit rumah, untuk satu blok\n",
    "\n",
    "8. medianIncome: Pendapatan rata-rata untuk rumah tangga dalam satu blok rumah (diukur dalam puluhan ribu Dolar AS)\n",
    "\n",
    "9. medianHouseValue: Nilai median rumah untuk rumah tangga dalam satu blok (diukur dalam Dolar AS)\n",
    "\n",
    "10. oceanProximity: Lokasi rumah dengan laut/laut\n"
   ]
  },
  {
   "cell_type": "markdown",
   "id": "1412aa9e",
   "metadata": {},
   "source": [
    "**Problem Statement**\n",
    "\n",
    "Pada survey sensus California, dapat memprediksi menentukan **menentukan harga atau value rumah yang tepat di California** dengan adanya fitur population, total_rooms, and total_bedrooms.\n",
    "\n"
   ]
  },
  {
   "cell_type": "markdown",
   "id": "0448bc5e",
   "metadata": {},
   "source": [
    "**3. Goals**\n",
    "\n",
    "Untuk memprediksi nilai median rumah (median house value) di California"
   ]
  },
  {
   "cell_type": "markdown",
   "id": "a06b8191",
   "metadata": {},
   "source": [
    "**4. Analytics Approach**\n",
    "\n",
    "Menentukan nilai median rumah dengan pengaruh fitur-fitur ada, melakukan analisis data untuk mengetahui informasi dari data yang ada. Selanjutnya, membangun algoritma untuk menemukan model regresi. Menemukan fitur yang berpengaruh besar terhadap target median model value."
   ]
  },
  {
   "cell_type": "markdown",
   "id": "7f567e97",
   "metadata": {},
   "source": [
    "**5. Metric Evaluation**\n",
    "\n",
    "Evaluasi Metrik yang akan digunakan untuk model regresi yang dibangun adalah RMSE, MAE, dan MAPE, di mana RMSE adalah nilai rataan akar kuadrat dari error, MAE adalah rataan nilai absolut dari error, sedangkan MAPE adalah rataan persentase error yang dihasilkan oleh model regresi. Semakin kecil nilai RMSE, MAE, dan MAPE yang dihasilkan, berarti model semakin akurat dalam memprediksi harga sewa sesuai dengan limitasi fitur yang digunakan."
   ]
  },
  {
   "cell_type": "code",
   "execution_count": 2,
   "id": "4c19c964",
   "metadata": {},
   "outputs": [],
   "source": [
    "# Import library yang dibutuhkan untuk eksplorasi dataset\n",
    "import pandas as pd \n",
    "import numpy as np\n",
    "import matplotlib.pyplot as plt\n",
    "import seaborn as sns\n",
    "\n",
    "import warnings\n",
    "warnings.filterwarnings('ignore')"
   ]
  },
  {
   "cell_type": "code",
   "execution_count": 3,
   "id": "f7c8a0a4",
   "metadata": {},
   "outputs": [],
   "source": [
    "house = pd.read_csv('data_california_house.csv')"
   ]
  },
  {
   "cell_type": "code",
   "execution_count": 4,
   "id": "96d7c29d",
   "metadata": {},
   "outputs": [
    {
     "data": {
      "text/html": [
       "<div>\n",
       "<style scoped>\n",
       "    .dataframe tbody tr th:only-of-type {\n",
       "        vertical-align: middle;\n",
       "    }\n",
       "\n",
       "    .dataframe tbody tr th {\n",
       "        vertical-align: top;\n",
       "    }\n",
       "\n",
       "    .dataframe thead th {\n",
       "        text-align: right;\n",
       "    }\n",
       "</style>\n",
       "<table border=\"1\" class=\"dataframe\">\n",
       "  <thead>\n",
       "    <tr style=\"text-align: right;\">\n",
       "      <th></th>\n",
       "      <th>longitude</th>\n",
       "      <th>latitude</th>\n",
       "      <th>housing_median_age</th>\n",
       "      <th>total_rooms</th>\n",
       "      <th>total_bedrooms</th>\n",
       "      <th>population</th>\n",
       "      <th>households</th>\n",
       "      <th>median_income</th>\n",
       "      <th>ocean_proximity</th>\n",
       "      <th>median_house_value</th>\n",
       "    </tr>\n",
       "  </thead>\n",
       "  <tbody>\n",
       "    <tr>\n",
       "      <th>0</th>\n",
       "      <td>-119.79</td>\n",
       "      <td>36.73</td>\n",
       "      <td>52.0</td>\n",
       "      <td>112.0</td>\n",
       "      <td>28.0</td>\n",
       "      <td>193.0</td>\n",
       "      <td>40.0</td>\n",
       "      <td>1.9750</td>\n",
       "      <td>INLAND</td>\n",
       "      <td>47500.0</td>\n",
       "    </tr>\n",
       "    <tr>\n",
       "      <th>1</th>\n",
       "      <td>-122.21</td>\n",
       "      <td>37.77</td>\n",
       "      <td>43.0</td>\n",
       "      <td>1017.0</td>\n",
       "      <td>328.0</td>\n",
       "      <td>836.0</td>\n",
       "      <td>277.0</td>\n",
       "      <td>2.2604</td>\n",
       "      <td>NEAR BAY</td>\n",
       "      <td>100000.0</td>\n",
       "    </tr>\n",
       "    <tr>\n",
       "      <th>2</th>\n",
       "      <td>-118.04</td>\n",
       "      <td>33.87</td>\n",
       "      <td>17.0</td>\n",
       "      <td>2358.0</td>\n",
       "      <td>396.0</td>\n",
       "      <td>1387.0</td>\n",
       "      <td>364.0</td>\n",
       "      <td>6.2990</td>\n",
       "      <td>&lt;1H OCEAN</td>\n",
       "      <td>285800.0</td>\n",
       "    </tr>\n",
       "    <tr>\n",
       "      <th>3</th>\n",
       "      <td>-118.28</td>\n",
       "      <td>34.06</td>\n",
       "      <td>17.0</td>\n",
       "      <td>2518.0</td>\n",
       "      <td>1196.0</td>\n",
       "      <td>3051.0</td>\n",
       "      <td>1000.0</td>\n",
       "      <td>1.7199</td>\n",
       "      <td>&lt;1H OCEAN</td>\n",
       "      <td>175000.0</td>\n",
       "    </tr>\n",
       "    <tr>\n",
       "      <th>4</th>\n",
       "      <td>-119.81</td>\n",
       "      <td>36.73</td>\n",
       "      <td>50.0</td>\n",
       "      <td>772.0</td>\n",
       "      <td>194.0</td>\n",
       "      <td>606.0</td>\n",
       "      <td>167.0</td>\n",
       "      <td>2.2206</td>\n",
       "      <td>INLAND</td>\n",
       "      <td>59200.0</td>\n",
       "    </tr>\n",
       "  </tbody>\n",
       "</table>\n",
       "</div>"
      ],
      "text/plain": [
       "   longitude  latitude  housing_median_age  total_rooms  total_bedrooms  \\\n",
       "0    -119.79     36.73                52.0        112.0            28.0   \n",
       "1    -122.21     37.77                43.0       1017.0           328.0   \n",
       "2    -118.04     33.87                17.0       2358.0           396.0   \n",
       "3    -118.28     34.06                17.0       2518.0          1196.0   \n",
       "4    -119.81     36.73                50.0        772.0           194.0   \n",
       "\n",
       "   population  households  median_income ocean_proximity  median_house_value  \n",
       "0       193.0        40.0         1.9750          INLAND             47500.0  \n",
       "1       836.0       277.0         2.2604        NEAR BAY            100000.0  \n",
       "2      1387.0       364.0         6.2990       <1H OCEAN            285800.0  \n",
       "3      3051.0      1000.0         1.7199       <1H OCEAN            175000.0  \n",
       "4       606.0       167.0         2.2206          INLAND             59200.0  "
      ]
     },
     "execution_count": 4,
     "metadata": {},
     "output_type": "execute_result"
    }
   ],
   "source": [
    "house.head()"
   ]
  },
  {
   "cell_type": "code",
   "execution_count": 5,
   "id": "34ed199f",
   "metadata": {},
   "outputs": [
    {
     "name": "stdout",
     "output_type": "stream",
     "text": [
      "<class 'pandas.core.frame.DataFrame'>\n",
      "RangeIndex: 14448 entries, 0 to 14447\n",
      "Data columns (total 10 columns):\n",
      " #   Column              Non-Null Count  Dtype  \n",
      "---  ------              --------------  -----  \n",
      " 0   longitude           14448 non-null  float64\n",
      " 1   latitude            14448 non-null  float64\n",
      " 2   housing_median_age  14448 non-null  float64\n",
      " 3   total_rooms         14448 non-null  float64\n",
      " 4   total_bedrooms      14311 non-null  float64\n",
      " 5   population          14448 non-null  float64\n",
      " 6   households          14448 non-null  float64\n",
      " 7   median_income       14448 non-null  float64\n",
      " 8   ocean_proximity     14448 non-null  object \n",
      " 9   median_house_value  14448 non-null  float64\n",
      "dtypes: float64(9), object(1)\n",
      "memory usage: 1.1+ MB\n"
     ]
    }
   ],
   "source": [
    "house.info()"
   ]
  },
  {
   "cell_type": "markdown",
   "id": "734eafa2",
   "metadata": {},
   "source": [
    "Pada tabel terdapat fitur numerikal dan kategorikal. Fitur numerikal seperti longitude, latitude, housing_median_age, total_rooms, total_bedrooms, population, households, median_income, median_house_value. Sedangkan, fitur kategorikal hanya pada fitur ocean_proximity."
   ]
  },
  {
   "cell_type": "code",
   "execution_count": 6,
   "id": "a1cc47d0",
   "metadata": {},
   "outputs": [
    {
     "data": {
      "text/plain": [
       "<1H OCEAN     6369\n",
       "INLAND        4576\n",
       "NEAR OCEAN    1879\n",
       "NEAR BAY      1622\n",
       "ISLAND           2\n",
       "Name: ocean_proximity, dtype: int64"
      ]
     },
     "execution_count": 6,
     "metadata": {},
     "output_type": "execute_result"
    }
   ],
   "source": [
    "house['ocean_proximity'].value_counts()"
   ]
  },
  {
   "cell_type": "code",
   "execution_count": 7,
   "id": "4b3e74d2",
   "metadata": {},
   "outputs": [
    {
     "data": {
      "text/html": [
       "<div>\n",
       "<style scoped>\n",
       "    .dataframe tbody tr th:only-of-type {\n",
       "        vertical-align: middle;\n",
       "    }\n",
       "\n",
       "    .dataframe tbody tr th {\n",
       "        vertical-align: top;\n",
       "    }\n",
       "\n",
       "    .dataframe thead th {\n",
       "        text-align: right;\n",
       "    }\n",
       "</style>\n",
       "<table border=\"1\" class=\"dataframe\">\n",
       "  <thead>\n",
       "    <tr style=\"text-align: right;\">\n",
       "      <th></th>\n",
       "      <th>longitude</th>\n",
       "      <th>latitude</th>\n",
       "      <th>housing_median_age</th>\n",
       "      <th>total_rooms</th>\n",
       "      <th>total_bedrooms</th>\n",
       "      <th>population</th>\n",
       "      <th>households</th>\n",
       "      <th>median_income</th>\n",
       "      <th>median_house_value</th>\n",
       "    </tr>\n",
       "  </thead>\n",
       "  <tbody>\n",
       "    <tr>\n",
       "      <th>count</th>\n",
       "      <td>14448.000000</td>\n",
       "      <td>14448.000000</td>\n",
       "      <td>14448.000000</td>\n",
       "      <td>14448.000000</td>\n",
       "      <td>14311.000000</td>\n",
       "      <td>14448.000000</td>\n",
       "      <td>14448.000000</td>\n",
       "      <td>14448.000000</td>\n",
       "      <td>14448.000000</td>\n",
       "    </tr>\n",
       "    <tr>\n",
       "      <th>mean</th>\n",
       "      <td>-119.566647</td>\n",
       "      <td>35.630093</td>\n",
       "      <td>28.618702</td>\n",
       "      <td>2640.132683</td>\n",
       "      <td>538.260709</td>\n",
       "      <td>1425.157323</td>\n",
       "      <td>499.508929</td>\n",
       "      <td>3.866667</td>\n",
       "      <td>206824.624516</td>\n",
       "    </tr>\n",
       "    <tr>\n",
       "      <th>std</th>\n",
       "      <td>2.006587</td>\n",
       "      <td>2.140121</td>\n",
       "      <td>12.596694</td>\n",
       "      <td>2191.612441</td>\n",
       "      <td>423.577544</td>\n",
       "      <td>1149.580157</td>\n",
       "      <td>383.098390</td>\n",
       "      <td>1.891158</td>\n",
       "      <td>115365.476182</td>\n",
       "    </tr>\n",
       "    <tr>\n",
       "      <th>min</th>\n",
       "      <td>-124.350000</td>\n",
       "      <td>32.540000</td>\n",
       "      <td>1.000000</td>\n",
       "      <td>2.000000</td>\n",
       "      <td>1.000000</td>\n",
       "      <td>3.000000</td>\n",
       "      <td>1.000000</td>\n",
       "      <td>0.499900</td>\n",
       "      <td>14999.000000</td>\n",
       "    </tr>\n",
       "    <tr>\n",
       "      <th>25%</th>\n",
       "      <td>-121.800000</td>\n",
       "      <td>33.930000</td>\n",
       "      <td>18.000000</td>\n",
       "      <td>1451.000000</td>\n",
       "      <td>295.000000</td>\n",
       "      <td>784.000000</td>\n",
       "      <td>279.000000</td>\n",
       "      <td>2.570600</td>\n",
       "      <td>119600.000000</td>\n",
       "    </tr>\n",
       "    <tr>\n",
       "      <th>50%</th>\n",
       "      <td>-118.490000</td>\n",
       "      <td>34.260000</td>\n",
       "      <td>29.000000</td>\n",
       "      <td>2125.000000</td>\n",
       "      <td>435.000000</td>\n",
       "      <td>1165.000000</td>\n",
       "      <td>410.000000</td>\n",
       "      <td>3.539100</td>\n",
       "      <td>180000.000000</td>\n",
       "    </tr>\n",
       "    <tr>\n",
       "      <th>75%</th>\n",
       "      <td>-118.000000</td>\n",
       "      <td>37.710000</td>\n",
       "      <td>37.000000</td>\n",
       "      <td>3148.000000</td>\n",
       "      <td>647.000000</td>\n",
       "      <td>1724.000000</td>\n",
       "      <td>604.000000</td>\n",
       "      <td>4.736100</td>\n",
       "      <td>263900.000000</td>\n",
       "    </tr>\n",
       "    <tr>\n",
       "      <th>max</th>\n",
       "      <td>-114.310000</td>\n",
       "      <td>41.950000</td>\n",
       "      <td>52.000000</td>\n",
       "      <td>32627.000000</td>\n",
       "      <td>6445.000000</td>\n",
       "      <td>35682.000000</td>\n",
       "      <td>6082.000000</td>\n",
       "      <td>15.000100</td>\n",
       "      <td>500001.000000</td>\n",
       "    </tr>\n",
       "  </tbody>\n",
       "</table>\n",
       "</div>"
      ],
      "text/plain": [
       "          longitude      latitude  housing_median_age   total_rooms  \\\n",
       "count  14448.000000  14448.000000        14448.000000  14448.000000   \n",
       "mean    -119.566647     35.630093           28.618702   2640.132683   \n",
       "std        2.006587      2.140121           12.596694   2191.612441   \n",
       "min     -124.350000     32.540000            1.000000      2.000000   \n",
       "25%     -121.800000     33.930000           18.000000   1451.000000   \n",
       "50%     -118.490000     34.260000           29.000000   2125.000000   \n",
       "75%     -118.000000     37.710000           37.000000   3148.000000   \n",
       "max     -114.310000     41.950000           52.000000  32627.000000   \n",
       "\n",
       "       total_bedrooms    population    households  median_income  \\\n",
       "count    14311.000000  14448.000000  14448.000000   14448.000000   \n",
       "mean       538.260709   1425.157323    499.508929       3.866667   \n",
       "std        423.577544   1149.580157    383.098390       1.891158   \n",
       "min          1.000000      3.000000      1.000000       0.499900   \n",
       "25%        295.000000    784.000000    279.000000       2.570600   \n",
       "50%        435.000000   1165.000000    410.000000       3.539100   \n",
       "75%        647.000000   1724.000000    604.000000       4.736100   \n",
       "max       6445.000000  35682.000000   6082.000000      15.000100   \n",
       "\n",
       "       median_house_value  \n",
       "count        14448.000000  \n",
       "mean        206824.624516  \n",
       "std         115365.476182  \n",
       "min          14999.000000  \n",
       "25%         119600.000000  \n",
       "50%         180000.000000  \n",
       "75%         263900.000000  \n",
       "max         500001.000000  "
      ]
     },
     "execution_count": 7,
     "metadata": {},
     "output_type": "execute_result"
    }
   ],
   "source": [
    "house.describe()"
   ]
  },
  {
   "cell_type": "markdown",
   "id": "d67d87f8",
   "metadata": {},
   "source": [
    "## Exploratory Data Analysis (EDA)"
   ]
  },
  {
   "cell_type": "code",
   "execution_count": 8,
   "id": "57da4262",
   "metadata": {},
   "outputs": [
    {
     "data": {
      "text/plain": [
       "array([[<AxesSubplot:title={'center':'longitude'}>,\n",
       "        <AxesSubplot:title={'center':'latitude'}>,\n",
       "        <AxesSubplot:title={'center':'housing_median_age'}>],\n",
       "       [<AxesSubplot:title={'center':'total_rooms'}>,\n",
       "        <AxesSubplot:title={'center':'total_bedrooms'}>,\n",
       "        <AxesSubplot:title={'center':'population'}>],\n",
       "       [<AxesSubplot:title={'center':'households'}>,\n",
       "        <AxesSubplot:title={'center':'median_income'}>,\n",
       "        <AxesSubplot:title={'center':'median_house_value'}>]],\n",
       "      dtype=object)"
      ]
     },
     "execution_count": 8,
     "metadata": {},
     "output_type": "execute_result"
    },
    {
     "data": {
      "image/png": "[encoded data removed]",
      "text/plain": [
       "<Figure size 1080x720 with 9 Axes>"
      ]
     },
     "metadata": {
      "needs_background": "light"
     },
     "output_type": "display_data"
    }
   ],
   "source": [
    "house.hist(bins=50, figsize=(15,10))"
   ]
  },
  {
   "cell_type": "markdown",
   "id": "924d0322",
   "metadata": {},
   "source": [
    "Dari histogram di atas, jelas bahwa sebagian besar fitur miring. Tampaknya housing_median_age dan median_housing_value telah dibatasi di akhir (Puncak di akhir)."
   ]
  },
  {
   "cell_type": "markdown",
   "id": "b259aa55",
   "metadata": {},
   "source": [
    "## Data Preprocessing\n",
    "\n",
    "Pada tahap ini, kita akan melakukan cleaning pada data yang nantinya data yang sudah dibersihkan akan kita gunakan untuk proses analisis selanjutnya. Beberapa hal yang perlu dilakukan adalah:\n",
    "- Drop fitur yang tidak memiliki relevansi terhadap permasalahan yang sedang dihadapi.\n",
    "- Melakukan treatment terhadap missing value jika ada. Bisa dengan cara men-drop fiturnya jika memang tidak dibutuhkan atau bisa juga dengan mengimputasi dengan nilai yang paling masuk akal berdasarkan kasusnya.\n",
    "\n",
    "Untuk proses data preprocessing dan feature engineering, kita akan menggunakan dataframe hasil duplikasi dari dataframe yang sebelumnya digunakan."
   ]
  },
  {
   "cell_type": "code",
   "execution_count": 9,
   "id": "f7709149",
   "metadata": {},
   "outputs": [
    {
     "data": {
      "text/html": [
       "<div>\n",
       "<style scoped>\n",
       "    .dataframe tbody tr th:only-of-type {\n",
       "        vertical-align: middle;\n",
       "    }\n",
       "\n",
       "    .dataframe tbody tr th {\n",
       "        vertical-align: top;\n",
       "    }\n",
       "\n",
       "    .dataframe thead th {\n",
       "        text-align: right;\n",
       "    }\n",
       "</style>\n",
       "<table border=\"1\" class=\"dataframe\">\n",
       "  <thead>\n",
       "    <tr style=\"text-align: right;\">\n",
       "      <th></th>\n",
       "      <th>dataFeatures</th>\n",
       "      <th>dataType</th>\n",
       "      <th>null</th>\n",
       "      <th>nullPct</th>\n",
       "      <th>unique</th>\n",
       "      <th>uniqueSample</th>\n",
       "    </tr>\n",
       "  </thead>\n",
       "  <tbody>\n",
       "    <tr>\n",
       "      <th>0</th>\n",
       "      <td>longitude</td>\n",
       "      <td>float64</td>\n",
       "      <td>0</td>\n",
       "      <td>0.00</td>\n",
       "      <td>806</td>\n",
       "      <td>[-116.29, -119.7]</td>\n",
       "    </tr>\n",
       "    <tr>\n",
       "      <th>1</th>\n",
       "      <td>latitude</td>\n",
       "      <td>float64</td>\n",
       "      <td>0</td>\n",
       "      <td>0.00</td>\n",
       "      <td>836</td>\n",
       "      <td>[33.45, 35.18]</td>\n",
       "    </tr>\n",
       "    <tr>\n",
       "      <th>2</th>\n",
       "      <td>housing_median_age</td>\n",
       "      <td>float64</td>\n",
       "      <td>0</td>\n",
       "      <td>0.00</td>\n",
       "      <td>52</td>\n",
       "      <td>[40.0, 20.0]</td>\n",
       "    </tr>\n",
       "    <tr>\n",
       "      <th>3</th>\n",
       "      <td>total_rooms</td>\n",
       "      <td>float64</td>\n",
       "      <td>0</td>\n",
       "      <td>0.00</td>\n",
       "      <td>5227</td>\n",
       "      <td>[3267.0, 3078.0]</td>\n",
       "    </tr>\n",
       "    <tr>\n",
       "      <th>4</th>\n",
       "      <td>total_bedrooms</td>\n",
       "      <td>float64</td>\n",
       "      <td>137</td>\n",
       "      <td>0.95</td>\n",
       "      <td>1748</td>\n",
       "      <td>[1200.0, 1246.0]</td>\n",
       "    </tr>\n",
       "    <tr>\n",
       "      <th>5</th>\n",
       "      <td>population</td>\n",
       "      <td>float64</td>\n",
       "      <td>0</td>\n",
       "      <td>0.00</td>\n",
       "      <td>3498</td>\n",
       "      <td>[1713.0, 3011.0]</td>\n",
       "    </tr>\n",
       "    <tr>\n",
       "      <th>6</th>\n",
       "      <td>households</td>\n",
       "      <td>float64</td>\n",
       "      <td>0</td>\n",
       "      <td>0.00</td>\n",
       "      <td>1649</td>\n",
       "      <td>[925.0, 1689.0]</td>\n",
       "    </tr>\n",
       "    <tr>\n",
       "      <th>7</th>\n",
       "      <td>median_income</td>\n",
       "      <td>float64</td>\n",
       "      <td>0</td>\n",
       "      <td>0.00</td>\n",
       "      <td>9797</td>\n",
       "      <td>[2.7411, 3.6471]</td>\n",
       "    </tr>\n",
       "    <tr>\n",
       "      <th>8</th>\n",
       "      <td>ocean_proximity</td>\n",
       "      <td>object</td>\n",
       "      <td>0</td>\n",
       "      <td>0.00</td>\n",
       "      <td>5</td>\n",
       "      <td>[ISLAND, NEAR BAY]</td>\n",
       "    </tr>\n",
       "    <tr>\n",
       "      <th>9</th>\n",
       "      <td>median_house_value</td>\n",
       "      <td>float64</td>\n",
       "      <td>0</td>\n",
       "      <td>0.00</td>\n",
       "      <td>3548</td>\n",
       "      <td>[371200.0, 280400.0]</td>\n",
       "    </tr>\n",
       "  </tbody>\n",
       "</table>\n",
       "</div>"
      ],
      "text/plain": [
       "         dataFeatures dataType  null  nullPct  unique          uniqueSample\n",
       "0           longitude  float64     0     0.00     806     [-116.29, -119.7]\n",
       "1            latitude  float64     0     0.00     836        [33.45, 35.18]\n",
       "2  housing_median_age  float64     0     0.00      52          [40.0, 20.0]\n",
       "3         total_rooms  float64     0     0.00    5227      [3267.0, 3078.0]\n",
       "4      total_bedrooms  float64   137     0.95    1748      [1200.0, 1246.0]\n",
       "5          population  float64     0     0.00    3498      [1713.0, 3011.0]\n",
       "6          households  float64     0     0.00    1649       [925.0, 1689.0]\n",
       "7       median_income  float64     0     0.00    9797      [2.7411, 3.6471]\n",
       "8     ocean_proximity   object     0     0.00       5    [ISLAND, NEAR BAY]\n",
       "9  median_house_value  float64     0     0.00    3548  [371200.0, 280400.0]"
      ]
     },
     "execution_count": 9,
     "metadata": {},
     "output_type": "execute_result"
    }
   ],
   "source": [
    "# Cek info lebih detail untuk setiap fitur\n",
    "listItem = []\n",
    "\n",
    "for col in house.columns:\n",
    "    listItem.append([col, house[col].dtype, house[col].isna().sum(), round((house[col].isna().sum()/len(house[col]))*100, 2),\n",
    "                    house[col].nunique(), list(house[col].drop_duplicates().sample(2).values)]);\n",
    "\n",
    "house_desc = pd.DataFrame(columns=['dataFeatures', 'dataType', 'null', 'nullPct', 'unique', 'uniqueSample'],\n",
    "                     data=listItem)\n",
    "house_desc"
   ]
  },
  {
   "cell_type": "markdown",
   "id": "755fa64f",
   "metadata": {},
   "source": [
    "Dari input dataset, terdapat data kosong pada beberapa fitur atau kolom."
   ]
  },
  {
   "cell_type": "code",
   "execution_count": 10,
   "id": "dabd7ec0",
   "metadata": {},
   "outputs": [
    {
     "data": {
      "text/plain": [
       "0"
      ]
     },
     "execution_count": 10,
     "metadata": {},
     "output_type": "execute_result"
    }
   ],
   "source": [
    "# Mendeteksi adanya duplikan pada data\n",
    "house.duplicated().sum()"
   ]
  },
  {
   "cell_type": "code",
   "execution_count": 125,
   "id": "4228a09c",
   "metadata": {},
   "outputs": [
    {
     "name": "stdout",
     "output_type": "stream",
     "text": [
      "<class 'pandas.core.frame.DataFrame'>\n",
      "Int64Index: 14311 entries, 0 to 14447\n",
      "Data columns (total 10 columns):\n",
      " #   Column              Non-Null Count  Dtype  \n",
      "---  ------              --------------  -----  \n",
      " 0   longitude           14311 non-null  float64\n",
      " 1   latitude            14311 non-null  float64\n",
      " 2   housing_median_age  14311 non-null  float64\n",
      " 3   total_rooms         14311 non-null  float64\n",
      " 4   total_bedrooms      14311 non-null  float64\n",
      " 5   population          14311 non-null  float64\n",
      " 6   households          14311 non-null  float64\n",
      " 7   median_income       14311 non-null  float64\n",
      " 8   ocean_proximity     14311 non-null  object \n",
      " 9   median_house_value  14311 non-null  float64\n",
      "dtypes: float64(9), object(1)\n",
      "memory usage: 1.2+ MB\n"
     ]
    }
   ],
   "source": [
    "house.info()"
   ]
  },
  {
   "cell_type": "markdown",
   "id": "7c9707ac",
   "metadata": {},
   "source": [
    "## Missing Value"
   ]
  },
  {
   "cell_type": "code",
   "execution_count": 12,
   "id": "3379cf08",
   "metadata": {},
   "outputs": [
    {
     "data": {
      "text/plain": [
       "longitude               0\n",
       "latitude                0\n",
       "housing_median_age      0\n",
       "total_rooms             0\n",
       "total_bedrooms        137\n",
       "population              0\n",
       "households              0\n",
       "median_income           0\n",
       "ocean_proximity         0\n",
       "median_house_value      0\n",
       "dtype: int64"
      ]
     },
     "execution_count": 12,
     "metadata": {},
     "output_type": "execute_result"
    }
   ],
   "source": [
    "# Cek nilai missing value\n",
    "house.isnull().sum()"
   ]
  },
  {
   "cell_type": "markdown",
   "id": "dad2df84",
   "metadata": {},
   "source": [
    "Terlihat terdapat missing value pada kolom total_bedrooms sebanyak 137 dari total data "
   ]
  },
  {
   "cell_type": "code",
   "execution_count": 13,
   "id": "143d9c10",
   "metadata": {},
   "outputs": [],
   "source": [
    "# Menghapus data null pada kolom total_bedrooms\n",
    "house.dropna(inplace = True)"
   ]
  },
  {
   "cell_type": "code",
   "execution_count": 14,
   "id": "d80abb1a",
   "metadata": {},
   "outputs": [
    {
     "data": {
      "text/plain": [
       "longitude             0\n",
       "latitude              0\n",
       "housing_median_age    0\n",
       "total_rooms           0\n",
       "total_bedrooms        0\n",
       "population            0\n",
       "households            0\n",
       "median_income         0\n",
       "ocean_proximity       0\n",
       "median_house_value    0\n",
       "dtype: int64"
      ]
     },
     "execution_count": 14,
     "metadata": {},
     "output_type": "execute_result"
    }
   ],
   "source": [
    "house.isnull().sum()"
   ]
  },
  {
   "cell_type": "code",
   "execution_count": 15,
   "id": "a5215be2",
   "metadata": {},
   "outputs": [
    {
     "data": {
      "text/html": [
       "<div>\n",
       "<style scoped>\n",
       "    .dataframe tbody tr th:only-of-type {\n",
       "        vertical-align: middle;\n",
       "    }\n",
       "\n",
       "    .dataframe tbody tr th {\n",
       "        vertical-align: top;\n",
       "    }\n",
       "\n",
       "    .dataframe thead th {\n",
       "        text-align: right;\n",
       "    }\n",
       "</style>\n",
       "<table border=\"1\" class=\"dataframe\">\n",
       "  <thead>\n",
       "    <tr style=\"text-align: right;\">\n",
       "      <th></th>\n",
       "      <th>longitude</th>\n",
       "      <th>latitude</th>\n",
       "      <th>housing_median_age</th>\n",
       "      <th>total_rooms</th>\n",
       "      <th>total_bedrooms</th>\n",
       "      <th>population</th>\n",
       "      <th>households</th>\n",
       "      <th>median_income</th>\n",
       "      <th>median_house_value</th>\n",
       "    </tr>\n",
       "  </thead>\n",
       "  <tbody>\n",
       "    <tr>\n",
       "      <th>count</th>\n",
       "      <td>14311.000000</td>\n",
       "      <td>14311.000000</td>\n",
       "      <td>14311.000000</td>\n",
       "      <td>14311.000000</td>\n",
       "      <td>14311.000000</td>\n",
       "      <td>14311.000000</td>\n",
       "      <td>14311.000000</td>\n",
       "      <td>14311.000000</td>\n",
       "      <td>14311.000000</td>\n",
       "    </tr>\n",
       "    <tr>\n",
       "      <th>mean</th>\n",
       "      <td>-119.567150</td>\n",
       "      <td>35.631365</td>\n",
       "      <td>28.609671</td>\n",
       "      <td>2640.917686</td>\n",
       "      <td>538.260709</td>\n",
       "      <td>1424.772273</td>\n",
       "      <td>499.480470</td>\n",
       "      <td>3.866774</td>\n",
       "      <td>206793.156942</td>\n",
       "    </tr>\n",
       "    <tr>\n",
       "      <th>std</th>\n",
       "      <td>2.006374</td>\n",
       "      <td>2.139589</td>\n",
       "      <td>12.606493</td>\n",
       "      <td>2197.192896</td>\n",
       "      <td>423.577544</td>\n",
       "      <td>1151.795857</td>\n",
       "      <td>383.826005</td>\n",
       "      <td>1.890866</td>\n",
       "      <td>115404.371629</td>\n",
       "    </tr>\n",
       "    <tr>\n",
       "      <th>min</th>\n",
       "      <td>-124.350000</td>\n",
       "      <td>32.540000</td>\n",
       "      <td>1.000000</td>\n",
       "      <td>2.000000</td>\n",
       "      <td>1.000000</td>\n",
       "      <td>3.000000</td>\n",
       "      <td>1.000000</td>\n",
       "      <td>0.499900</td>\n",
       "      <td>14999.000000</td>\n",
       "    </tr>\n",
       "    <tr>\n",
       "      <th>25%</th>\n",
       "      <td>-121.800000</td>\n",
       "      <td>33.930000</td>\n",
       "      <td>18.000000</td>\n",
       "      <td>1452.000000</td>\n",
       "      <td>295.000000</td>\n",
       "      <td>784.000000</td>\n",
       "      <td>279.000000</td>\n",
       "      <td>2.569400</td>\n",
       "      <td>119400.000000</td>\n",
       "    </tr>\n",
       "    <tr>\n",
       "      <th>50%</th>\n",
       "      <td>-118.490000</td>\n",
       "      <td>34.260000</td>\n",
       "      <td>29.000000</td>\n",
       "      <td>2125.000000</td>\n",
       "      <td>435.000000</td>\n",
       "      <td>1164.000000</td>\n",
       "      <td>410.000000</td>\n",
       "      <td>3.540300</td>\n",
       "      <td>180000.000000</td>\n",
       "    </tr>\n",
       "    <tr>\n",
       "      <th>75%</th>\n",
       "      <td>-118.000000</td>\n",
       "      <td>37.715000</td>\n",
       "      <td>37.000000</td>\n",
       "      <td>3142.000000</td>\n",
       "      <td>647.000000</td>\n",
       "      <td>1722.000000</td>\n",
       "      <td>603.500000</td>\n",
       "      <td>4.736100</td>\n",
       "      <td>263750.000000</td>\n",
       "    </tr>\n",
       "    <tr>\n",
       "      <th>max</th>\n",
       "      <td>-114.310000</td>\n",
       "      <td>41.950000</td>\n",
       "      <td>52.000000</td>\n",
       "      <td>32627.000000</td>\n",
       "      <td>6445.000000</td>\n",
       "      <td>35682.000000</td>\n",
       "      <td>6082.000000</td>\n",
       "      <td>15.000100</td>\n",
       "      <td>500001.000000</td>\n",
       "    </tr>\n",
       "  </tbody>\n",
       "</table>\n",
       "</div>"
      ],
      "text/plain": [
       "          longitude      latitude  housing_median_age   total_rooms  \\\n",
       "count  14311.000000  14311.000000        14311.000000  14311.000000   \n",
       "mean    -119.567150     35.631365           28.609671   2640.917686   \n",
       "std        2.006374      2.139589           12.606493   2197.192896   \n",
       "min     -124.350000     32.540000            1.000000      2.000000   \n",
       "25%     -121.800000     33.930000           18.000000   1452.000000   \n",
       "50%     -118.490000     34.260000           29.000000   2125.000000   \n",
       "75%     -118.000000     37.715000           37.000000   3142.000000   \n",
       "max     -114.310000     41.950000           52.000000  32627.000000   \n",
       "\n",
       "       total_bedrooms    population    households  median_income  \\\n",
       "count    14311.000000  14311.000000  14311.000000   14311.000000   \n",
       "mean       538.260709   1424.772273    499.480470       3.866774   \n",
       "std        423.577544   1151.795857    383.826005       1.890866   \n",
       "min          1.000000      3.000000      1.000000       0.499900   \n",
       "25%        295.000000    784.000000    279.000000       2.569400   \n",
       "50%        435.000000   1164.000000    410.000000       3.540300   \n",
       "75%        647.000000   1722.000000    603.500000       4.736100   \n",
       "max       6445.000000  35682.000000   6082.000000      15.000100   \n",
       "\n",
       "       median_house_value  \n",
       "count        14311.000000  \n",
       "mean        206793.156942  \n",
       "std         115404.371629  \n",
       "min          14999.000000  \n",
       "25%         119400.000000  \n",
       "50%         180000.000000  \n",
       "75%         263750.000000  \n",
       "max         500001.000000  "
      ]
     },
     "execution_count": 15,
     "metadata": {},
     "output_type": "execute_result"
    }
   ],
   "source": [
    "# Cek deskriptif statistik fitur numerikal\n",
    "num_features = [feature for feature in house.columns if ((house[feature].dtypes != 'object'))]\n",
    "house[num_features].describe()"
   ]
  },
  {
   "cell_type": "markdown",
   "id": "630c1e79",
   "metadata": {},
   "source": [
    "### Drop Columns\n",
    "\n",
    "Tentu perlu ada pertimbangan sebelum melakukan drop pada kolam dan fitur. Sebagai pertimbangan, pada tahap awal ini kita bisa bisa menggunakan domain knowledge untuk memutuskan kira-kira fitur mana saja yang dirasa tidak memiliki relevansi.\n",
    "**Tidak ada yang didrop**"
   ]
  },
  {
   "cell_type": "markdown",
   "id": "817c55bb",
   "metadata": {},
   "source": [
    "### Cek Deskriptif Statistik Fitur Numerikal"
   ]
  },
  {
   "cell_type": "code",
   "execution_count": 17,
   "id": "17e5958e",
   "metadata": {},
   "outputs": [
    {
     "data": {
      "text/html": [
       "<div>\n",
       "<style scoped>\n",
       "    .dataframe tbody tr th:only-of-type {\n",
       "        vertical-align: middle;\n",
       "    }\n",
       "\n",
       "    .dataframe tbody tr th {\n",
       "        vertical-align: top;\n",
       "    }\n",
       "\n",
       "    .dataframe thead th {\n",
       "        text-align: right;\n",
       "    }\n",
       "</style>\n",
       "<table border=\"1\" class=\"dataframe\">\n",
       "  <thead>\n",
       "    <tr style=\"text-align: right;\">\n",
       "      <th></th>\n",
       "      <th>longitude</th>\n",
       "      <th>latitude</th>\n",
       "      <th>housing_median_age</th>\n",
       "      <th>total_rooms</th>\n",
       "      <th>total_bedrooms</th>\n",
       "      <th>population</th>\n",
       "      <th>households</th>\n",
       "      <th>median_income</th>\n",
       "      <th>median_house_value</th>\n",
       "    </tr>\n",
       "  </thead>\n",
       "  <tbody>\n",
       "    <tr>\n",
       "      <th>count</th>\n",
       "      <td>14311.000000</td>\n",
       "      <td>14311.000000</td>\n",
       "      <td>14311.000000</td>\n",
       "      <td>14311.000000</td>\n",
       "      <td>14311.000000</td>\n",
       "      <td>14311.000000</td>\n",
       "      <td>14311.000000</td>\n",
       "      <td>14311.000000</td>\n",
       "      <td>14311.000000</td>\n",
       "    </tr>\n",
       "    <tr>\n",
       "      <th>mean</th>\n",
       "      <td>-119.567150</td>\n",
       "      <td>35.631365</td>\n",
       "      <td>28.609671</td>\n",
       "      <td>2640.917686</td>\n",
       "      <td>538.260709</td>\n",
       "      <td>1424.772273</td>\n",
       "      <td>499.480470</td>\n",
       "      <td>3.866774</td>\n",
       "      <td>206793.156942</td>\n",
       "    </tr>\n",
       "    <tr>\n",
       "      <th>std</th>\n",
       "      <td>2.006374</td>\n",
       "      <td>2.139589</td>\n",
       "      <td>12.606493</td>\n",
       "      <td>2197.192896</td>\n",
       "      <td>423.577544</td>\n",
       "      <td>1151.795857</td>\n",
       "      <td>383.826005</td>\n",
       "      <td>1.890866</td>\n",
       "      <td>115404.371629</td>\n",
       "    </tr>\n",
       "    <tr>\n",
       "      <th>min</th>\n",
       "      <td>-124.350000</td>\n",
       "      <td>32.540000</td>\n",
       "      <td>1.000000</td>\n",
       "      <td>2.000000</td>\n",
       "      <td>1.000000</td>\n",
       "      <td>3.000000</td>\n",
       "      <td>1.000000</td>\n",
       "      <td>0.499900</td>\n",
       "      <td>14999.000000</td>\n",
       "    </tr>\n",
       "    <tr>\n",
       "      <th>25%</th>\n",
       "      <td>-121.800000</td>\n",
       "      <td>33.930000</td>\n",
       "      <td>18.000000</td>\n",
       "      <td>1452.000000</td>\n",
       "      <td>295.000000</td>\n",
       "      <td>784.000000</td>\n",
       "      <td>279.000000</td>\n",
       "      <td>2.569400</td>\n",
       "      <td>119400.000000</td>\n",
       "    </tr>\n",
       "    <tr>\n",
       "      <th>50%</th>\n",
       "      <td>-118.490000</td>\n",
       "      <td>34.260000</td>\n",
       "      <td>29.000000</td>\n",
       "      <td>2125.000000</td>\n",
       "      <td>435.000000</td>\n",
       "      <td>1164.000000</td>\n",
       "      <td>410.000000</td>\n",
       "      <td>3.540300</td>\n",
       "      <td>180000.000000</td>\n",
       "    </tr>\n",
       "    <tr>\n",
       "      <th>75%</th>\n",
       "      <td>-118.000000</td>\n",
       "      <td>37.715000</td>\n",
       "      <td>37.000000</td>\n",
       "      <td>3142.000000</td>\n",
       "      <td>647.000000</td>\n",
       "      <td>1722.000000</td>\n",
       "      <td>603.500000</td>\n",
       "      <td>4.736100</td>\n",
       "      <td>263750.000000</td>\n",
       "    </tr>\n",
       "    <tr>\n",
       "      <th>max</th>\n",
       "      <td>-114.310000</td>\n",
       "      <td>41.950000</td>\n",
       "      <td>52.000000</td>\n",
       "      <td>32627.000000</td>\n",
       "      <td>6445.000000</td>\n",
       "      <td>35682.000000</td>\n",
       "      <td>6082.000000</td>\n",
       "      <td>15.000100</td>\n",
       "      <td>500001.000000</td>\n",
       "    </tr>\n",
       "  </tbody>\n",
       "</table>\n",
       "</div>"
      ],
      "text/plain": [
       "          longitude      latitude  housing_median_age   total_rooms  \\\n",
       "count  14311.000000  14311.000000        14311.000000  14311.000000   \n",
       "mean    -119.567150     35.631365           28.609671   2640.917686   \n",
       "std        2.006374      2.139589           12.606493   2197.192896   \n",
       "min     -124.350000     32.540000            1.000000      2.000000   \n",
       "25%     -121.800000     33.930000           18.000000   1452.000000   \n",
       "50%     -118.490000     34.260000           29.000000   2125.000000   \n",
       "75%     -118.000000     37.715000           37.000000   3142.000000   \n",
       "max     -114.310000     41.950000           52.000000  32627.000000   \n",
       "\n",
       "       total_bedrooms    population    households  median_income  \\\n",
       "count    14311.000000  14311.000000  14311.000000   14311.000000   \n",
       "mean       538.260709   1424.772273    499.480470       3.866774   \n",
       "std        423.577544   1151.795857    383.826005       1.890866   \n",
       "min          1.000000      3.000000      1.000000       0.499900   \n",
       "25%        295.000000    784.000000    279.000000       2.569400   \n",
       "50%        435.000000   1164.000000    410.000000       3.540300   \n",
       "75%        647.000000   1722.000000    603.500000       4.736100   \n",
       "max       6445.000000  35682.000000   6082.000000      15.000100   \n",
       "\n",
       "       median_house_value  \n",
       "count        14311.000000  \n",
       "mean        206793.156942  \n",
       "std         115404.371629  \n",
       "min          14999.000000  \n",
       "25%         119400.000000  \n",
       "50%         180000.000000  \n",
       "75%         263750.000000  \n",
       "max         500001.000000  "
      ]
     },
     "execution_count": 17,
     "metadata": {},
     "output_type": "execute_result"
    }
   ],
   "source": [
    "num_features = [feature for feature in house.columns if ((house[feature].dtypes != 'object'))]\n",
    "house[num_features].describe()"
   ]
  },
  {
   "cell_type": "markdown",
   "id": "08f193cc",
   "metadata": {},
   "source": [
    "Pengecualian untuk 'fitur longitude', ada fitur yang memiliki nilai negatif (<0) "
   ]
  },
  {
   "cell_type": "markdown",
   "id": "8b09a163",
   "metadata": {},
   "source": [
    "### Data Correlation"
   ]
  },
  {
   "cell_type": "code",
   "execution_count": 65,
   "id": "f40e4f8a",
   "metadata": {},
   "outputs": [
    {
     "data": {
      "image/png": "[encoded data removed]",
      "text/plain": [
       "<Figure size 1080x864 with 2 Axes>"
      ]
     },
     "metadata": {},
     "output_type": "display_data"
    }
   ],
   "source": [
    "# Correlation matrix\n",
    "plt.figure(figsize=(15, 12))\n",
    "palette=sns.diverging_palette(20, 220, n=256)\n",
    "corr = house.corr(method='pearson')\n",
    "sns.heatmap(corr, annot=True, fmt='.2f', cmap=palette, square=True, linewidths=.5)\n",
    "plt.title('Correlation Matrix', size=15, weight='bold');"
   ]
  },
  {
   "cell_type": "code",
   "execution_count": 66,
   "id": "0c79c481",
   "metadata": {},
   "outputs": [
    {
     "data": {
      "text/plain": [
       "<AxesSubplot:>"
      ]
     },
     "execution_count": 66,
     "metadata": {},
     "output_type": "execute_result"
    },
    {
     "data": {
      "image/png": "[encoded data removed]",
      "text/plain": [
       "<Figure size 720x360 with 1 Axes>"
      ]
     },
     "metadata": {},
     "output_type": "display_data"
    }
   ],
   "source": [
    "plt.figure(figsize=(10, 5))\n",
    "house.boxplot(rot=90)"
   ]
  },
  {
   "cell_type": "code",
   "execution_count": 67,
   "id": "ffe5d92f",
   "metadata": {},
   "outputs": [
    {
     "data": {
      "text/plain": [
       "Index(['longitude', 'latitude', 'housing_median_age', 'total_rooms',\n",
       "       'total_bedrooms', 'population', 'households', 'median_income',\n",
       "       'median_house_value'],\n",
       "      dtype='object')"
      ]
     },
     "execution_count": 67,
     "metadata": {},
     "output_type": "execute_result"
    }
   ],
   "source": [
    "numerical = house.select_dtypes(exclude='object').columns\n",
    "numerical"
   ]
  },
  {
   "cell_type": "code",
   "execution_count": 68,
   "id": "d6455e10",
   "metadata": {},
   "outputs": [
    {
     "data": {
      "image/png": "[encoded data removed]",
      "text/plain": [
       "<Figure size 1440x720 with 9 Axes>"
      ]
     },
     "metadata": {},
     "output_type": "display_data"
    }
   ],
   "source": [
    "plt.figure(figsize=(20, 10), facecolor='white')\n",
    "sns.set(style='whitegrid')\n",
    "plotnumber = 1\n",
    "\n",
    "for num in numerical:\n",
    "    ax = plt.subplot(3,3, plotnumber)\n",
    "    sns.boxplot(x=num, data=house, palette='crest')\n",
    "    plt.title(num, fontsize=16)\n",
    "    plt.tight_layout()\n",
    "    plotnumber += 1\n"
   ]
  },
  {
   "cell_type": "markdown",
   "id": "5f221a4d",
   "metadata": {},
   "source": [
    "Terlihat banyak sekali outliers pada fitur households, median_income, median_house_value, total_rooms, total_bedrooms dan population."
   ]
  },
  {
   "cell_type": "code",
   "execution_count": 69,
   "id": "3f1043b8",
   "metadata": {},
   "outputs": [],
   "source": [
    "#Membuat fungsi untuk mengecek outliers\n",
    "def find_anomalies(data):\n",
    "    q1 = data.quantile(0.25)\n",
    "    q3 = data.quantile(0.75)\n",
    "    iqr = q3 - q1\n",
    "    limit = iqr*1.5\n",
    "    print(f'IQR: {iqr}')\n",
    "\n",
    "    limit_bawah = q1 - limit\n",
    "    limit_atas = q3 + limit\n",
    "    print(f'limit_bawah: {limit_bawah}')\n",
    "    print(f'limit_atas: {limit_atas}')        "
   ]
  },
  {
   "cell_type": "code",
   "execution_count": 70,
   "id": "581144dd",
   "metadata": {},
   "outputs": [
    {
     "name": "stdout",
     "output_type": "stream",
     "text": [
      "IQR: 1690.0\n",
      "limit_bawah: -1083.0\n",
      "limit_atas: 5677.0\n"
     ]
    }
   ],
   "source": [
    "# Outliers pada fitur total rooms \n",
    "find_anomalies(house['total_rooms'])"
   ]
  },
  {
   "cell_type": "code",
   "execution_count": 71,
   "id": "5d8abc84",
   "metadata": {},
   "outputs": [
    {
     "name": "stdout",
     "output_type": "stream",
     "text": [
      "IQR: 352.0\n",
      "limit_bawah: -233.0\n",
      "limit_atas: 1175.0\n"
     ]
    }
   ],
   "source": [
    "# Outliers pada fitur total bedrooms\n",
    "find_anomalies(house['total_bedrooms'])"
   ]
  },
  {
   "cell_type": "code",
   "execution_count": 72,
   "id": "ec70c992",
   "metadata": {},
   "outputs": [
    {
     "name": "stdout",
     "output_type": "stream",
     "text": [
      "IQR: 938.0\n",
      "limit_bawah: -623.0\n",
      "limit_atas: 3129.0\n"
     ]
    }
   ],
   "source": [
    "# Outliers pada fitur population\n",
    "find_anomalies(house['population'])"
   ]
  },
  {
   "cell_type": "code",
   "execution_count": 73,
   "id": "5b561b9e",
   "metadata": {},
   "outputs": [
    {
     "name": "stdout",
     "output_type": "stream",
     "text": [
      "IQR: 324.5\n",
      "limit_bawah: -207.75\n",
      "limit_atas: 1090.25\n"
     ]
    }
   ],
   "source": [
    "# Outliers pada fitur households\n",
    "find_anomalies(house['households'])"
   ]
  },
  {
   "cell_type": "code",
   "execution_count": 74,
   "id": "775a739c",
   "metadata": {},
   "outputs": [
    {
     "name": "stdout",
     "output_type": "stream",
     "text": [
      "IQR: 2.1667000000000005\n",
      "limit_bawah: -0.6806500000000009\n",
      "limit_atas: 7.986150000000001\n"
     ]
    }
   ],
   "source": [
    "# Outliers pada fitur median income\n",
    "find_anomalies(house['median_income'])"
   ]
  },
  {
   "cell_type": "code",
   "execution_count": 75,
   "id": "fc684b76",
   "metadata": {},
   "outputs": [
    {
     "name": "stdout",
     "output_type": "stream",
     "text": [
      "IQR: 144350.0\n",
      "limit_bawah: -97125.0\n",
      "limit_atas: 480275.0\n"
     ]
    }
   ],
   "source": [
    "# Outliers pada fitur median house value\n",
    "find_anomalies(house['median_house_value'])"
   ]
  },
  {
   "cell_type": "markdown",
   "id": "307e2a72",
   "metadata": {},
   "source": [
    "### Feature Engineering"
   ]
  },
  {
   "cell_type": "markdown",
   "id": "d43932be",
   "metadata": {},
   "source": [
    "#### Total Rooms"
   ]
  },
  {
   "cell_type": "code",
   "execution_count": 76,
   "id": "853af0af",
   "metadata": {},
   "outputs": [
    {
     "data": {
      "text/plain": [
       "count    14311.000000\n",
       "mean      2640.917686\n",
       "std       2197.192896\n",
       "min          2.000000\n",
       "25%       1452.000000\n",
       "50%       2125.000000\n",
       "75%       3142.000000\n",
       "max      32627.000000\n",
       "Name: total_rooms, dtype: float64"
      ]
     },
     "execution_count": 76,
     "metadata": {},
     "output_type": "execute_result"
    }
   ],
   "source": [
    "# Cek deskriptif statistik \n",
    "house['total_rooms'].describe()"
   ]
  },
  {
   "cell_type": "code",
   "execution_count": 77,
   "id": "0199ccfc",
   "metadata": {},
   "outputs": [
    {
     "data": {
      "text/plain": [
       "905"
      ]
     },
     "execution_count": 77,
     "metadata": {},
     "output_type": "execute_result"
    }
   ],
   "source": [
    "# Cek Outlier\n",
    "house[house['total_rooms'] > 5677.0].count()['total_rooms']"
   ]
  },
  {
   "cell_type": "markdown",
   "id": "76a73c70",
   "metadata": {},
   "source": [
    "####  Total Bedrooms"
   ]
  },
  {
   "cell_type": "code",
   "execution_count": 78,
   "id": "41fd2190",
   "metadata": {},
   "outputs": [
    {
     "data": {
      "text/plain": [
       "count    14311.000000\n",
       "mean       538.260709\n",
       "std        423.577544\n",
       "min          1.000000\n",
       "25%        295.000000\n",
       "50%        435.000000\n",
       "75%        647.000000\n",
       "max       6445.000000\n",
       "Name: total_bedrooms, dtype: float64"
      ]
     },
     "execution_count": 78,
     "metadata": {},
     "output_type": "execute_result"
    }
   ],
   "source": [
    "# Cek deskriptif statistik \n",
    "house['total_bedrooms'].describe()"
   ]
  },
  {
   "cell_type": "code",
   "execution_count": 79,
   "id": "562e05dd",
   "metadata": {},
   "outputs": [
    {
     "data": {
      "text/plain": [
       "879"
      ]
     },
     "execution_count": 79,
     "metadata": {},
     "output_type": "execute_result"
    }
   ],
   "source": [
    "house[house['total_bedrooms'] > 1175.0].count()['total_bedrooms']"
   ]
  },
  {
   "cell_type": "markdown",
   "id": "b35b224e",
   "metadata": {},
   "source": [
    "####  Population"
   ]
  },
  {
   "cell_type": "code",
   "execution_count": 80,
   "id": "f15362e6",
   "metadata": {},
   "outputs": [
    {
     "data": {
      "text/plain": [
       "count    14311.000000\n",
       "mean      1424.772273\n",
       "std       1151.795857\n",
       "min          3.000000\n",
       "25%        784.000000\n",
       "50%       1164.000000\n",
       "75%       1722.000000\n",
       "max      35682.000000\n",
       "Name: population, dtype: float64"
      ]
     },
     "execution_count": 80,
     "metadata": {},
     "output_type": "execute_result"
    }
   ],
   "source": [
    "# Cek deskriptif statistik \n",
    "house['population'].describe()"
   ]
  },
  {
   "cell_type": "code",
   "execution_count": 81,
   "id": "28daa456",
   "metadata": {},
   "outputs": [
    {
     "data": {
      "text/plain": [
       "822"
      ]
     },
     "execution_count": 81,
     "metadata": {},
     "output_type": "execute_result"
    }
   ],
   "source": [
    "house[house['population'] > 3129.0].count()['population']"
   ]
  },
  {
   "cell_type": "markdown",
   "id": "367358d1",
   "metadata": {},
   "source": [
    "#### Households"
   ]
  },
  {
   "cell_type": "code",
   "execution_count": 82,
   "id": "5723b6c8",
   "metadata": {},
   "outputs": [
    {
     "data": {
      "text/plain": [
       "count    14311.000000\n",
       "mean       499.480470\n",
       "std        383.826005\n",
       "min          1.000000\n",
       "25%        279.000000\n",
       "50%        410.000000\n",
       "75%        603.500000\n",
       "max       6082.000000\n",
       "Name: households, dtype: float64"
      ]
     },
     "execution_count": 82,
     "metadata": {},
     "output_type": "execute_result"
    }
   ],
   "source": [
    "# Cek deskriptif statistik \n",
    "house['households'].describe()"
   ]
  },
  {
   "cell_type": "code",
   "execution_count": 83,
   "id": "ac18e7e8",
   "metadata": {},
   "outputs": [
    {
     "data": {
      "text/plain": [
       "836"
      ]
     },
     "execution_count": 83,
     "metadata": {},
     "output_type": "execute_result"
    }
   ],
   "source": [
    "house[house['households'] > 1090.25].count()['households']"
   ]
  },
  {
   "cell_type": "markdown",
   "id": "c24e0d3f",
   "metadata": {},
   "source": [
    "#### Median Income"
   ]
  },
  {
   "cell_type": "code",
   "execution_count": 84,
   "id": "0acd2291",
   "metadata": {},
   "outputs": [
    {
     "data": {
      "text/plain": [
       "count    14311.000000\n",
       "mean         3.866774\n",
       "std          1.890866\n",
       "min          0.499900\n",
       "25%          2.569400\n",
       "50%          3.540300\n",
       "75%          4.736100\n",
       "max         15.000100\n",
       "Name: median_income, dtype: float64"
      ]
     },
     "execution_count": 84,
     "metadata": {},
     "output_type": "execute_result"
    }
   ],
   "source": [
    "# Cek deskriptif statistik \n",
    "house['median_income'].describe()"
   ]
  },
  {
   "cell_type": "code",
   "execution_count": 85,
   "id": "9fdab196",
   "metadata": {},
   "outputs": [
    {
     "data": {
      "text/plain": [
       "477"
      ]
     },
     "execution_count": 85,
     "metadata": {},
     "output_type": "execute_result"
    }
   ],
   "source": [
    "house[house['median_income'] > 7.986150000000001].count()['median_income']"
   ]
  },
  {
   "cell_type": "markdown",
   "id": "8bae974c",
   "metadata": {},
   "source": [
    "#### Median House Value"
   ]
  },
  {
   "cell_type": "code",
   "execution_count": 86,
   "id": "64686a14",
   "metadata": {},
   "outputs": [
    {
     "data": {
      "text/plain": [
       "count     14311.000000\n",
       "mean     206793.156942\n",
       "std      115404.371629\n",
       "min       14999.000000\n",
       "25%      119400.000000\n",
       "50%      180000.000000\n",
       "75%      263750.000000\n",
       "max      500001.000000\n",
       "Name: median_house_value, dtype: float64"
      ]
     },
     "execution_count": 86,
     "metadata": {},
     "output_type": "execute_result"
    }
   ],
   "source": [
    "# Cek deskriptif statistik \n",
    "house['median_house_value'].describe()"
   ]
  },
  {
   "cell_type": "code",
   "execution_count": 87,
   "id": "3127523d",
   "metadata": {},
   "outputs": [
    {
     "data": {
      "text/plain": [
       "751"
      ]
     },
     "execution_count": 87,
     "metadata": {},
     "output_type": "execute_result"
    }
   ],
   "source": [
    "house[house['median_house_value'] > 480275.0].count()['median_house_value']"
   ]
  },
  {
   "cell_type": "markdown",
   "id": "d5390cc2",
   "metadata": {},
   "source": [
    "### Drop Data"
   ]
  },
  {
   "cell_type": "code",
   "execution_count": 88,
   "id": "f6a03463",
   "metadata": {},
   "outputs": [],
   "source": [
    "# Copy Dataset\n",
    "house_drop = house.copy()"
   ]
  },
  {
   "cell_type": "code",
   "execution_count": 89,
   "id": "f760467f",
   "metadata": {},
   "outputs": [],
   "source": [
    "# Drop data outlier pada 'total_rooms'\n",
    "house_drop = house_drop[house_drop['total_rooms'] <= 5677.0]"
   ]
  },
  {
   "cell_type": "code",
   "execution_count": 90,
   "id": "27d566c5",
   "metadata": {},
   "outputs": [],
   "source": [
    "# Drop data outlier pada 'total_bedrooms'\n",
    "house_drop = house_drop[house_drop['total_bedrooms'] <= 1175.0]"
   ]
  },
  {
   "cell_type": "code",
   "execution_count": 91,
   "id": "7eea9f8d",
   "metadata": {},
   "outputs": [],
   "source": [
    "# Drop data outlier pada 'population'\n",
    "house_drop = house_drop[house_drop['population'] <= 3129.0]"
   ]
  },
  {
   "cell_type": "code",
   "execution_count": 92,
   "id": "e5df4c67",
   "metadata": {},
   "outputs": [],
   "source": [
    "# Drop data outlier pada 'households'\n",
    "house_drop = house_drop[house_drop['households'] <= 1090.25]"
   ]
  },
  {
   "cell_type": "code",
   "execution_count": 93,
   "id": "b0d6c17b",
   "metadata": {},
   "outputs": [],
   "source": [
    "# Drop data outlier pada 'median_income'\n",
    "house_drop = house_drop[house_drop['median_income'] <= 7.986150000000001]"
   ]
  },
  {
   "cell_type": "code",
   "execution_count": 94,
   "id": "674770c9",
   "metadata": {},
   "outputs": [],
   "source": [
    "# Drop data outlier pada 'median_house_value'\n",
    "house_drop = house_drop[house_drop['median_house_value'] <= 480275.0]"
   ]
  },
  {
   "cell_type": "markdown",
   "id": "3d3218f0",
   "metadata": {},
   "source": [
    "### Clean Dataset"
   ]
  },
  {
   "cell_type": "code",
   "execution_count": 95,
   "id": "bb8174bd",
   "metadata": {},
   "outputs": [
    {
     "data": {
      "text/html": [
       "<div>\n",
       "<style scoped>\n",
       "    .dataframe tbody tr th:only-of-type {\n",
       "        vertical-align: middle;\n",
       "    }\n",
       "\n",
       "    .dataframe tbody tr th {\n",
       "        vertical-align: top;\n",
       "    }\n",
       "\n",
       "    .dataframe thead th {\n",
       "        text-align: right;\n",
       "    }\n",
       "</style>\n",
       "<table border=\"1\" class=\"dataframe\">\n",
       "  <thead>\n",
       "    <tr style=\"text-align: right;\">\n",
       "      <th></th>\n",
       "      <th>longitude</th>\n",
       "      <th>latitude</th>\n",
       "      <th>housing_median_age</th>\n",
       "      <th>total_rooms</th>\n",
       "      <th>total_bedrooms</th>\n",
       "      <th>population</th>\n",
       "      <th>households</th>\n",
       "      <th>median_income</th>\n",
       "      <th>ocean_proximity</th>\n",
       "      <th>median_house_value</th>\n",
       "    </tr>\n",
       "  </thead>\n",
       "  <tbody>\n",
       "    <tr>\n",
       "      <th>0</th>\n",
       "      <td>-119.79</td>\n",
       "      <td>36.73</td>\n",
       "      <td>52.0</td>\n",
       "      <td>112.0</td>\n",
       "      <td>28.0</td>\n",
       "      <td>193.0</td>\n",
       "      <td>40.0</td>\n",
       "      <td>1.9750</td>\n",
       "      <td>INLAND</td>\n",
       "      <td>47500.0</td>\n",
       "    </tr>\n",
       "    <tr>\n",
       "      <th>1</th>\n",
       "      <td>-122.21</td>\n",
       "      <td>37.77</td>\n",
       "      <td>43.0</td>\n",
       "      <td>1017.0</td>\n",
       "      <td>328.0</td>\n",
       "      <td>836.0</td>\n",
       "      <td>277.0</td>\n",
       "      <td>2.2604</td>\n",
       "      <td>NEAR BAY</td>\n",
       "      <td>100000.0</td>\n",
       "    </tr>\n",
       "    <tr>\n",
       "      <th>2</th>\n",
       "      <td>-118.04</td>\n",
       "      <td>33.87</td>\n",
       "      <td>17.0</td>\n",
       "      <td>2358.0</td>\n",
       "      <td>396.0</td>\n",
       "      <td>1387.0</td>\n",
       "      <td>364.0</td>\n",
       "      <td>6.2990</td>\n",
       "      <td>&lt;1H OCEAN</td>\n",
       "      <td>285800.0</td>\n",
       "    </tr>\n",
       "    <tr>\n",
       "      <th>4</th>\n",
       "      <td>-119.81</td>\n",
       "      <td>36.73</td>\n",
       "      <td>50.0</td>\n",
       "      <td>772.0</td>\n",
       "      <td>194.0</td>\n",
       "      <td>606.0</td>\n",
       "      <td>167.0</td>\n",
       "      <td>2.2206</td>\n",
       "      <td>INLAND</td>\n",
       "      <td>59200.0</td>\n",
       "    </tr>\n",
       "    <tr>\n",
       "      <th>7</th>\n",
       "      <td>-121.26</td>\n",
       "      <td>38.69</td>\n",
       "      <td>17.0</td>\n",
       "      <td>3917.0</td>\n",
       "      <td>638.0</td>\n",
       "      <td>1809.0</td>\n",
       "      <td>564.0</td>\n",
       "      <td>5.2586</td>\n",
       "      <td>INLAND</td>\n",
       "      <td>137000.0</td>\n",
       "    </tr>\n",
       "  </tbody>\n",
       "</table>\n",
       "</div>"
      ],
      "text/plain": [
       "   longitude  latitude  housing_median_age  total_rooms  total_bedrooms  \\\n",
       "0    -119.79     36.73                52.0        112.0            28.0   \n",
       "1    -122.21     37.77                43.0       1017.0           328.0   \n",
       "2    -118.04     33.87                17.0       2358.0           396.0   \n",
       "4    -119.81     36.73                50.0        772.0           194.0   \n",
       "7    -121.26     38.69                17.0       3917.0           638.0   \n",
       "\n",
       "   population  households  median_income ocean_proximity  median_house_value  \n",
       "0       193.0        40.0         1.9750          INLAND             47500.0  \n",
       "1       836.0       277.0         2.2604        NEAR BAY            100000.0  \n",
       "2      1387.0       364.0         6.2990       <1H OCEAN            285800.0  \n",
       "4       606.0       167.0         2.2206          INLAND             59200.0  \n",
       "7      1809.0       564.0         5.2586          INLAND            137000.0  "
      ]
     },
     "execution_count": 95,
     "metadata": {},
     "output_type": "execute_result"
    }
   ],
   "source": [
    "# Cek dataset yang sudah bersih\n",
    "house_drop.head()"
   ]
  },
  {
   "cell_type": "code",
   "execution_count": 96,
   "id": "14935d55",
   "metadata": {},
   "outputs": [
    {
     "name": "stdout",
     "output_type": "stream",
     "text": [
      "<class 'pandas.core.frame.DataFrame'>\n",
      "Int64Index: 12231 entries, 0 to 14447\n",
      "Data columns (total 10 columns):\n",
      " #   Column              Non-Null Count  Dtype  \n",
      "---  ------              --------------  -----  \n",
      " 0   longitude           12231 non-null  float64\n",
      " 1   latitude            12231 non-null  float64\n",
      " 2   housing_median_age  12231 non-null  float64\n",
      " 3   total_rooms         12231 non-null  float64\n",
      " 4   total_bedrooms      12231 non-null  float64\n",
      " 5   population          12231 non-null  float64\n",
      " 6   households          12231 non-null  float64\n",
      " 7   median_income       12231 non-null  float64\n",
      " 8   ocean_proximity     12231 non-null  object \n",
      " 9   median_house_value  12231 non-null  float64\n",
      "dtypes: float64(9), object(1)\n",
      "memory usage: 1.0+ MB\n"
     ]
    }
   ],
   "source": [
    "house_drop.info()"
   ]
  },
  {
   "cell_type": "code",
   "execution_count": 97,
   "id": "b050d434",
   "metadata": {},
   "outputs": [
    {
     "data": {
      "text/html": [
       "<div>\n",
       "<style scoped>\n",
       "    .dataframe tbody tr th:only-of-type {\n",
       "        vertical-align: middle;\n",
       "    }\n",
       "\n",
       "    .dataframe tbody tr th {\n",
       "        vertical-align: top;\n",
       "    }\n",
       "\n",
       "    .dataframe thead th {\n",
       "        text-align: right;\n",
       "    }\n",
       "</style>\n",
       "<table border=\"1\" class=\"dataframe\">\n",
       "  <thead>\n",
       "    <tr style=\"text-align: right;\">\n",
       "      <th></th>\n",
       "      <th>longitude</th>\n",
       "      <th>latitude</th>\n",
       "      <th>housing_median_age</th>\n",
       "      <th>total_rooms</th>\n",
       "      <th>total_bedrooms</th>\n",
       "      <th>population</th>\n",
       "      <th>households</th>\n",
       "      <th>median_income</th>\n",
       "      <th>median_house_value</th>\n",
       "    </tr>\n",
       "  </thead>\n",
       "  <tbody>\n",
       "    <tr>\n",
       "      <th>count</th>\n",
       "      <td>14311.000000</td>\n",
       "      <td>14311.000000</td>\n",
       "      <td>14311.000000</td>\n",
       "      <td>14311.000000</td>\n",
       "      <td>14311.000000</td>\n",
       "      <td>14311.000000</td>\n",
       "      <td>14311.000000</td>\n",
       "      <td>14311.000000</td>\n",
       "      <td>14311.000000</td>\n",
       "    </tr>\n",
       "    <tr>\n",
       "      <th>mean</th>\n",
       "      <td>-119.567150</td>\n",
       "      <td>35.631365</td>\n",
       "      <td>28.609671</td>\n",
       "      <td>2640.917686</td>\n",
       "      <td>538.260709</td>\n",
       "      <td>1424.772273</td>\n",
       "      <td>499.480470</td>\n",
       "      <td>3.866774</td>\n",
       "      <td>206793.156942</td>\n",
       "    </tr>\n",
       "    <tr>\n",
       "      <th>std</th>\n",
       "      <td>2.006374</td>\n",
       "      <td>2.139589</td>\n",
       "      <td>12.606493</td>\n",
       "      <td>2197.192896</td>\n",
       "      <td>423.577544</td>\n",
       "      <td>1151.795857</td>\n",
       "      <td>383.826005</td>\n",
       "      <td>1.890866</td>\n",
       "      <td>115404.371629</td>\n",
       "    </tr>\n",
       "    <tr>\n",
       "      <th>min</th>\n",
       "      <td>-124.350000</td>\n",
       "      <td>32.540000</td>\n",
       "      <td>1.000000</td>\n",
       "      <td>2.000000</td>\n",
       "      <td>1.000000</td>\n",
       "      <td>3.000000</td>\n",
       "      <td>1.000000</td>\n",
       "      <td>0.499900</td>\n",
       "      <td>14999.000000</td>\n",
       "    </tr>\n",
       "    <tr>\n",
       "      <th>25%</th>\n",
       "      <td>-121.800000</td>\n",
       "      <td>33.930000</td>\n",
       "      <td>18.000000</td>\n",
       "      <td>1452.000000</td>\n",
       "      <td>295.000000</td>\n",
       "      <td>784.000000</td>\n",
       "      <td>279.000000</td>\n",
       "      <td>2.569400</td>\n",
       "      <td>119400.000000</td>\n",
       "    </tr>\n",
       "    <tr>\n",
       "      <th>50%</th>\n",
       "      <td>-118.490000</td>\n",
       "      <td>34.260000</td>\n",
       "      <td>29.000000</td>\n",
       "      <td>2125.000000</td>\n",
       "      <td>435.000000</td>\n",
       "      <td>1164.000000</td>\n",
       "      <td>410.000000</td>\n",
       "      <td>3.540300</td>\n",
       "      <td>180000.000000</td>\n",
       "    </tr>\n",
       "    <tr>\n",
       "      <th>75%</th>\n",
       "      <td>-118.000000</td>\n",
       "      <td>37.715000</td>\n",
       "      <td>37.000000</td>\n",
       "      <td>3142.000000</td>\n",
       "      <td>647.000000</td>\n",
       "      <td>1722.000000</td>\n",
       "      <td>603.500000</td>\n",
       "      <td>4.736100</td>\n",
       "      <td>263750.000000</td>\n",
       "    </tr>\n",
       "    <tr>\n",
       "      <th>max</th>\n",
       "      <td>-114.310000</td>\n",
       "      <td>41.950000</td>\n",
       "      <td>52.000000</td>\n",
       "      <td>32627.000000</td>\n",
       "      <td>6445.000000</td>\n",
       "      <td>35682.000000</td>\n",
       "      <td>6082.000000</td>\n",
       "      <td>15.000100</td>\n",
       "      <td>500001.000000</td>\n",
       "    </tr>\n",
       "  </tbody>\n",
       "</table>\n",
       "</div>"
      ],
      "text/plain": [
       "          longitude      latitude  housing_median_age   total_rooms  \\\n",
       "count  14311.000000  14311.000000        14311.000000  14311.000000   \n",
       "mean    -119.567150     35.631365           28.609671   2640.917686   \n",
       "std        2.006374      2.139589           12.606493   2197.192896   \n",
       "min     -124.350000     32.540000            1.000000      2.000000   \n",
       "25%     -121.800000     33.930000           18.000000   1452.000000   \n",
       "50%     -118.490000     34.260000           29.000000   2125.000000   \n",
       "75%     -118.000000     37.715000           37.000000   3142.000000   \n",
       "max     -114.310000     41.950000           52.000000  32627.000000   \n",
       "\n",
       "       total_bedrooms    population    households  median_income  \\\n",
       "count    14311.000000  14311.000000  14311.000000   14311.000000   \n",
       "mean       538.260709   1424.772273    499.480470       3.866774   \n",
       "std        423.577544   1151.795857    383.826005       1.890866   \n",
       "min          1.000000      3.000000      1.000000       0.499900   \n",
       "25%        295.000000    784.000000    279.000000       2.569400   \n",
       "50%        435.000000   1164.000000    410.000000       3.540300   \n",
       "75%        647.000000   1722.000000    603.500000       4.736100   \n",
       "max       6445.000000  35682.000000   6082.000000      15.000100   \n",
       "\n",
       "       median_house_value  \n",
       "count        14311.000000  \n",
       "mean        206793.156942  \n",
       "std         115404.371629  \n",
       "min          14999.000000  \n",
       "25%         119400.000000  \n",
       "50%         180000.000000  \n",
       "75%         263750.000000  \n",
       "max         500001.000000  "
      ]
     },
     "execution_count": 97,
     "metadata": {},
     "output_type": "execute_result"
    }
   ],
   "source": [
    "house.describe()"
   ]
  },
  {
   "cell_type": "code",
   "execution_count": 98,
   "id": "2d40aab0",
   "metadata": {},
   "outputs": [
    {
     "data": {
      "text/html": [
       "<div>\n",
       "<style scoped>\n",
       "    .dataframe tbody tr th:only-of-type {\n",
       "        vertical-align: middle;\n",
       "    }\n",
       "\n",
       "    .dataframe tbody tr th {\n",
       "        vertical-align: top;\n",
       "    }\n",
       "\n",
       "    .dataframe thead th {\n",
       "        text-align: right;\n",
       "    }\n",
       "</style>\n",
       "<table border=\"1\" class=\"dataframe\">\n",
       "  <thead>\n",
       "    <tr style=\"text-align: right;\">\n",
       "      <th></th>\n",
       "      <th>ocean_proximity</th>\n",
       "    </tr>\n",
       "  </thead>\n",
       "  <tbody>\n",
       "    <tr>\n",
       "      <th>count</th>\n",
       "      <td>12231</td>\n",
       "    </tr>\n",
       "    <tr>\n",
       "      <th>unique</th>\n",
       "      <td>5</td>\n",
       "    </tr>\n",
       "    <tr>\n",
       "      <th>top</th>\n",
       "      <td>&lt;1H OCEAN</td>\n",
       "    </tr>\n",
       "    <tr>\n",
       "      <th>freq</th>\n",
       "      <td>5260</td>\n",
       "    </tr>\n",
       "  </tbody>\n",
       "</table>\n",
       "</div>"
      ],
      "text/plain": [
       "       ocean_proximity\n",
       "count            12231\n",
       "unique               5\n",
       "top          <1H OCEAN\n",
       "freq              5260"
      ]
     },
     "execution_count": 98,
     "metadata": {},
     "output_type": "execute_result"
    }
   ],
   "source": [
    "house_drop.describe(include='object')"
   ]
  },
  {
   "cell_type": "markdown",
   "id": "cbc4a881",
   "metadata": {},
   "source": [
    "### Modelling"
   ]
  },
  {
   "cell_type": "code",
   "execution_count": 99,
   "id": "343f98c2",
   "metadata": {},
   "outputs": [],
   "source": [
    "# Import library untuk modeling\n",
    "\n",
    "from sklearn.model_selection import train_test_split, cross_val_score, RandomizedSearchCV, GridSearchCV, KFold\n",
    "\n",
    "import category_encoders as ce\n",
    "from sklearn.preprocessing import OneHotEncoder, OrdinalEncoder\n",
    "from sklearn.compose import ColumnTransformer\n",
    "from sklearn.pipeline import Pipeline\n",
    "\n",
    "from sklearn.linear_model import LinearRegression\n",
    "from sklearn.neighbors import KNeighborsRegressor\n",
    "from sklearn.tree import DecisionTreeRegressor\n",
    "from sklearn.ensemble import RandomForestRegressor\n",
    "from xgboost.sklearn import XGBRegressor\n",
    "from sklearn.compose import TransformedTargetRegressor\n",
    "\n",
    "from sklearn.preprocessing import StandardScaler, MinMaxScaler\n",
    "\n",
    "from sklearn.metrics import r2_score, mean_squared_error, mean_absolute_error, mean_absolute_percentage_error"
   ]
  },
  {
   "cell_type": "code",
   "execution_count": 100,
   "id": "43b3d7ef",
   "metadata": {},
   "outputs": [
    {
     "data": {
      "text/html": [
       "<div>\n",
       "<style scoped>\n",
       "    .dataframe tbody tr th:only-of-type {\n",
       "        vertical-align: middle;\n",
       "    }\n",
       "\n",
       "    .dataframe tbody tr th {\n",
       "        vertical-align: top;\n",
       "    }\n",
       "\n",
       "    .dataframe thead th {\n",
       "        text-align: right;\n",
       "    }\n",
       "</style>\n",
       "<table border=\"1\" class=\"dataframe\">\n",
       "  <thead>\n",
       "    <tr style=\"text-align: right;\">\n",
       "      <th></th>\n",
       "      <th>longitude</th>\n",
       "      <th>latitude</th>\n",
       "      <th>housing_median_age</th>\n",
       "      <th>total_rooms</th>\n",
       "      <th>total_bedrooms</th>\n",
       "      <th>population</th>\n",
       "      <th>households</th>\n",
       "      <th>median_income</th>\n",
       "      <th>ocean_proximity</th>\n",
       "      <th>median_house_value</th>\n",
       "    </tr>\n",
       "  </thead>\n",
       "  <tbody>\n",
       "    <tr>\n",
       "      <th>count</th>\n",
       "      <td>12231.000000</td>\n",
       "      <td>12231.000000</td>\n",
       "      <td>12231.000000</td>\n",
       "      <td>12231.000000</td>\n",
       "      <td>12231.000000</td>\n",
       "      <td>12231.000000</td>\n",
       "      <td>12231.000000</td>\n",
       "      <td>12231.000000</td>\n",
       "      <td>12231</td>\n",
       "      <td>12231.000000</td>\n",
       "    </tr>\n",
       "    <tr>\n",
       "      <th>unique</th>\n",
       "      <td>NaN</td>\n",
       "      <td>NaN</td>\n",
       "      <td>NaN</td>\n",
       "      <td>NaN</td>\n",
       "      <td>NaN</td>\n",
       "      <td>NaN</td>\n",
       "      <td>NaN</td>\n",
       "      <td>NaN</td>\n",
       "      <td>5</td>\n",
       "      <td>NaN</td>\n",
       "    </tr>\n",
       "    <tr>\n",
       "      <th>top</th>\n",
       "      <td>NaN</td>\n",
       "      <td>NaN</td>\n",
       "      <td>NaN</td>\n",
       "      <td>NaN</td>\n",
       "      <td>NaN</td>\n",
       "      <td>NaN</td>\n",
       "      <td>NaN</td>\n",
       "      <td>NaN</td>\n",
       "      <td>&lt;1H OCEAN</td>\n",
       "      <td>NaN</td>\n",
       "    </tr>\n",
       "    <tr>\n",
       "      <th>freq</th>\n",
       "      <td>NaN</td>\n",
       "      <td>NaN</td>\n",
       "      <td>NaN</td>\n",
       "      <td>NaN</td>\n",
       "      <td>NaN</td>\n",
       "      <td>NaN</td>\n",
       "      <td>NaN</td>\n",
       "      <td>NaN</td>\n",
       "      <td>5260</td>\n",
       "      <td>NaN</td>\n",
       "    </tr>\n",
       "    <tr>\n",
       "      <th>mean</th>\n",
       "      <td>-119.606490</td>\n",
       "      <td>35.701858</td>\n",
       "      <td>29.472079</td>\n",
       "      <td>2146.598234</td>\n",
       "      <td>445.808601</td>\n",
       "      <td>1196.173330</td>\n",
       "      <td>416.966315</td>\n",
       "      <td>3.570443</td>\n",
       "      <td>NaN</td>\n",
       "      <td>186963.199820</td>\n",
       "    </tr>\n",
       "    <tr>\n",
       "      <th>std</th>\n",
       "      <td>2.005061</td>\n",
       "      <td>2.169588</td>\n",
       "      <td>12.200191</td>\n",
       "      <td>1093.187558</td>\n",
       "      <td>221.935394</td>\n",
       "      <td>602.793248</td>\n",
       "      <td>205.712122</td>\n",
       "      <td>1.439360</td>\n",
       "      <td>NaN</td>\n",
       "      <td>93647.499731</td>\n",
       "    </tr>\n",
       "    <tr>\n",
       "      <th>min</th>\n",
       "      <td>-124.350000</td>\n",
       "      <td>32.540000</td>\n",
       "      <td>1.000000</td>\n",
       "      <td>2.000000</td>\n",
       "      <td>2.000000</td>\n",
       "      <td>3.000000</td>\n",
       "      <td>2.000000</td>\n",
       "      <td>0.499900</td>\n",
       "      <td>NaN</td>\n",
       "      <td>14999.000000</td>\n",
       "    </tr>\n",
       "    <tr>\n",
       "      <th>25%</th>\n",
       "      <td>-121.790000</td>\n",
       "      <td>33.940000</td>\n",
       "      <td>19.000000</td>\n",
       "      <td>1377.000000</td>\n",
       "      <td>285.000000</td>\n",
       "      <td>767.000000</td>\n",
       "      <td>270.000000</td>\n",
       "      <td>2.492550</td>\n",
       "      <td>NaN</td>\n",
       "      <td>113300.000000</td>\n",
       "    </tr>\n",
       "    <tr>\n",
       "      <th>50%</th>\n",
       "      <td>-118.610000</td>\n",
       "      <td>34.360000</td>\n",
       "      <td>30.000000</td>\n",
       "      <td>1980.000000</td>\n",
       "      <td>412.000000</td>\n",
       "      <td>1111.000000</td>\n",
       "      <td>388.000000</td>\n",
       "      <td>3.392200</td>\n",
       "      <td>NaN</td>\n",
       "      <td>170500.000000</td>\n",
       "    </tr>\n",
       "    <tr>\n",
       "      <th>75%</th>\n",
       "      <td>-118.020000</td>\n",
       "      <td>37.740000</td>\n",
       "      <td>38.000000</td>\n",
       "      <td>2785.000000</td>\n",
       "      <td>580.000000</td>\n",
       "      <td>1559.000000</td>\n",
       "      <td>542.000000</td>\n",
       "      <td>4.473200</td>\n",
       "      <td>NaN</td>\n",
       "      <td>241300.000000</td>\n",
       "    </tr>\n",
       "    <tr>\n",
       "      <th>max</th>\n",
       "      <td>-114.550000</td>\n",
       "      <td>41.950000</td>\n",
       "      <td>52.000000</td>\n",
       "      <td>5675.000000</td>\n",
       "      <td>1173.000000</td>\n",
       "      <td>3122.000000</td>\n",
       "      <td>1088.000000</td>\n",
       "      <td>7.979400</td>\n",
       "      <td>NaN</td>\n",
       "      <td>480100.000000</td>\n",
       "    </tr>\n",
       "  </tbody>\n",
       "</table>\n",
       "</div>"
      ],
      "text/plain": [
       "           longitude      latitude  housing_median_age   total_rooms  \\\n",
       "count   12231.000000  12231.000000        12231.000000  12231.000000   \n",
       "unique           NaN           NaN                 NaN           NaN   \n",
       "top              NaN           NaN                 NaN           NaN   \n",
       "freq             NaN           NaN                 NaN           NaN   \n",
       "mean     -119.606490     35.701858           29.472079   2146.598234   \n",
       "std         2.005061      2.169588           12.200191   1093.187558   \n",
       "min      -124.350000     32.540000            1.000000      2.000000   \n",
       "25%      -121.790000     33.940000           19.000000   1377.000000   \n",
       "50%      -118.610000     34.360000           30.000000   1980.000000   \n",
       "75%      -118.020000     37.740000           38.000000   2785.000000   \n",
       "max      -114.550000     41.950000           52.000000   5675.000000   \n",
       "\n",
       "        total_bedrooms    population    households  median_income  \\\n",
       "count     12231.000000  12231.000000  12231.000000   12231.000000   \n",
       "unique             NaN           NaN           NaN            NaN   \n",
       "top                NaN           NaN           NaN            NaN   \n",
       "freq               NaN           NaN           NaN            NaN   \n",
       "mean        445.808601   1196.173330    416.966315       3.570443   \n",
       "std         221.935394    602.793248    205.712122       1.439360   \n",
       "min           2.000000      3.000000      2.000000       0.499900   \n",
       "25%         285.000000    767.000000    270.000000       2.492550   \n",
       "50%         412.000000   1111.000000    388.000000       3.392200   \n",
       "75%         580.000000   1559.000000    542.000000       4.473200   \n",
       "max        1173.000000   3122.000000   1088.000000       7.979400   \n",
       "\n",
       "       ocean_proximity  median_house_value  \n",
       "count            12231        12231.000000  \n",
       "unique               5                 NaN  \n",
       "top          <1H OCEAN                 NaN  \n",
       "freq              5260                 NaN  \n",
       "mean               NaN       186963.199820  \n",
       "std                NaN        93647.499731  \n",
       "min                NaN        14999.000000  \n",
       "25%                NaN       113300.000000  \n",
       "50%                NaN       170500.000000  \n",
       "75%                NaN       241300.000000  \n",
       "max                NaN       480100.000000  "
      ]
     },
     "execution_count": 100,
     "metadata": {},
     "output_type": "execute_result"
    }
   ],
   "source": [
    "house_drop.describe(include='all')"
   ]
  },
  {
   "cell_type": "code",
   "execution_count": 101,
   "id": "31758aef",
   "metadata": {},
   "outputs": [
    {
     "name": "stdout",
     "output_type": "stream",
     "text": [
      "<1H OCEAN     5260\n",
      "INLAND        4083\n",
      "NEAR OCEAN    1545\n",
      "NEAR BAY      1341\n",
      "ISLAND           2\n",
      "Name: ocean_proximity, dtype: int64\n"
     ]
    }
   ],
   "source": [
    "for i in ['ocean_proximity']:\n",
    "    print(house_drop[i].value_counts())"
   ]
  },
  {
   "cell_type": "markdown",
   "id": "d4a6c6c9",
   "metadata": {},
   "source": [
    "#### Encoding"
   ]
  },
  {
   "cell_type": "code",
   "execution_count": 102,
   "id": "ae11e296",
   "metadata": {},
   "outputs": [],
   "source": [
    "# Mengubah fitur kategorikal menjadi numerikal\n",
    "\n",
    "transformer = ColumnTransformer([\n",
    "    ('One Hot', OneHotEncoder(drop='first', handle_unknown = 'ignore'), ['ocean_proximity']),\n",
    "], remainder='passthrough')"
   ]
  },
  {
   "cell_type": "markdown",
   "id": "df60fbf8",
   "metadata": {},
   "source": [
    "#### Data Splitting"
   ]
  },
  {
   "cell_type": "code",
   "execution_count": 103,
   "id": "31982594",
   "metadata": {},
   "outputs": [],
   "source": [
    "# Memisahkan data independen variabel dengan target\n",
    "X = house_drop.drop(['median_house_value'], axis=1)\n",
    "y = house_drop['median_house_value']"
   ]
  },
  {
   "cell_type": "markdown",
   "id": "73f017a3",
   "metadata": {},
   "source": [
    "#### Train and Test Splitting"
   ]
  },
  {
   "cell_type": "code",
   "execution_count": 104,
   "id": "08e76514",
   "metadata": {},
   "outputs": [],
   "source": [
    "# Splitting data training dan test dengan proporsi 70:30\n",
    "X_train, X_test, y_train, y_test= train_test_split(\n",
    "    X,\n",
    "    y,  \n",
    "    test_size=0.3,\n",
    "    random_state=1)"
   ]
  },
  {
   "cell_type": "markdown",
   "id": "4cd31048",
   "metadata": {},
   "source": [
    "**Choose a Benchmark Model**"
   ]
  },
  {
   "cell_type": "code",
   "execution_count": 105,
   "id": "d809da9c",
   "metadata": {},
   "outputs": [
    {
     "name": "stdout",
     "output_type": "stream",
     "text": [
      "[-58040.94361877 -59185.12948476 -58124.66933232 -57869.89088187\n",
      " -60457.22262738] TransformedTargetRegressor(func=<ufunc 'log'>, inverse_func=<ufunc 'exp'>,\n",
      "                           regressor=LinearRegression())\n",
      "[-41253.02768781 -42327.87044974 -41508.22169853 -40480.6435269\n",
      " -42310.16801484] TransformedTargetRegressor(func=<ufunc 'log'>, inverse_func=<ufunc 'exp'>,\n",
      "                           regressor=LinearRegression())\n",
      "[-0.24656928 -0.2495713  -0.23514187 -0.2296707  -0.24856942] TransformedTargetRegressor(func=<ufunc 'log'>, inverse_func=<ufunc 'exp'>,\n",
      "                           regressor=LinearRegression())\n",
      "[-54752.22088137 -56787.02822234 -55284.0571632  -53907.81257211\n",
      " -58822.51385786] TransformedTargetRegressor(func=<ufunc 'log'>, inverse_func=<ufunc 'exp'>,\n",
      "                           regressor=KNeighborsRegressor())\n",
      "[-37514.28240655 -38689.53132471 -38826.31984624 -36978.48004948\n",
      " -40014.85014337] TransformedTargetRegressor(func=<ufunc 'log'>, inverse_func=<ufunc 'exp'>,\n",
      "                           regressor=KNeighborsRegressor())\n",
      "[-0.22168063 -0.22495566 -0.2127942  -0.20553917 -0.22935767] TransformedTargetRegressor(func=<ufunc 'log'>, inverse_func=<ufunc 'exp'>,\n",
      "                           regressor=KNeighborsRegressor())\n",
      "[-65504.18400295 -64778.23054883 -67343.49700877 -63810.92341687\n",
      " -66434.96080333] TransformedTargetRegressor(func=<ufunc 'log'>, inverse_func=<ufunc 'exp'>,\n",
      "                           regressor=DecisionTreeRegressor(random_state=1))\n",
      "[-44243.55049621 -43091.64719626 -45480.14077103 -43095.44450935\n",
      " -44235.80724299] TransformedTargetRegressor(func=<ufunc 'log'>, inverse_func=<ufunc 'exp'>,\n",
      "                           regressor=DecisionTreeRegressor(random_state=1))\n",
      "[-0.26817855 -0.25853123 -0.2551344  -0.24241533 -0.25596962] TransformedTargetRegressor(func=<ufunc 'log'>, inverse_func=<ufunc 'exp'>,\n",
      "                           regressor=DecisionTreeRegressor(random_state=1))\n",
      "[-45311.82234875 -47205.62260787 -46510.77743234 -46436.13510472\n",
      " -49436.69369131] TransformedTargetRegressor(func=<ufunc 'log'>, inverse_func=<ufunc 'exp'>,\n",
      "                           regressor=RandomForestRegressor(random_state=1))\n",
      "[-30429.20097623 -31115.41341061 -30910.4330032  -30613.19307495\n",
      " -32214.08937476] TransformedTargetRegressor(func=<ufunc 'log'>, inverse_func=<ufunc 'exp'>,\n",
      "                           regressor=RandomForestRegressor(random_state=1))\n",
      "[-0.18171499 -0.18243721 -0.16699222 -0.17004899 -0.18526108] TransformedTargetRegressor(func=<ufunc 'log'>, inverse_func=<ufunc 'exp'>,\n",
      "                           regressor=RandomForestRegressor(random_state=1))\n",
      "[-43295.66028007 -45727.22272773 -44577.16568394 -43731.5218178\n",
      " -47276.89810883] TransformedTargetRegressor(func=<ufunc 'log'>, inverse_func=<ufunc 'exp'>,\n",
      "                           regressor=XGBRegressor(base_score=None, booster=None,\n",
      "                                                  colsample_bylevel=None,\n",
      "                                                  colsample_bynode=None,\n",
      "                                                  colsample_bytree=None,\n",
      "                                                  enable_categorical=False,\n",
      "                                                  gamma=None, gpu_id=None,\n",
      "                                                  importance_type=None,\n",
      "                                                  interaction_constraints=None,\n",
      "                                                  learning_rate=None,\n",
      "                                                  max_delta_step=None,\n",
      "                                                  max_depth=None,\n",
      "                                                  min_child_weight=None,\n",
      "                                                  missing=nan,\n",
      "                                                  monotone_constraints=None,\n",
      "                                                  n_estimators=100, n_jobs=None,\n",
      "                                                  num_parallel_tree=None,\n",
      "                                                  predictor=None,\n",
      "                                                  random_state=1,\n",
      "                                                  reg_alpha=None,\n",
      "                                                  reg_lambda=None,\n",
      "                                                  scale_pos_weight=None,\n",
      "                                                  subsample=None,\n",
      "                                                  tree_method=None,\n",
      "                                                  validate_parameters=None,\n",
      "                                                  verbosity=None))\n",
      "[-28951.01040755 -29890.55209322 -30295.62187865 -29329.90530994\n",
      " -31313.56667321] TransformedTargetRegressor(func=<ufunc 'log'>, inverse_func=<ufunc 'exp'>,\n",
      "                           regressor=XGBRegressor(base_score=None, booster=None,\n",
      "                                                  colsample_bylevel=None,\n",
      "                                                  colsample_bynode=None,\n",
      "                                                  colsample_bytree=None,\n",
      "                                                  enable_categorical=False,\n",
      "                                                  gamma=None, gpu_id=None,\n",
      "                                                  importance_type=None,\n",
      "                                                  interaction_constraints=None,\n",
      "                                                  learning_rate=None,\n",
      "                                                  max_delta_step=None,\n",
      "                                                  max_depth=None,\n",
      "                                                  min_child_weight=None,\n",
      "                                                  missing=nan,\n",
      "                                                  monotone_constraints=None,\n",
      "                                                  n_estimators=100, n_jobs=None,\n",
      "                                                  num_parallel_tree=None,\n",
      "                                                  predictor=None,\n",
      "                                                  random_state=1,\n",
      "                                                  reg_alpha=None,\n",
      "                                                  reg_lambda=None,\n",
      "                                                  scale_pos_weight=None,\n",
      "                                                  subsample=None,\n",
      "                                                  tree_method=None,\n",
      "                                                  validate_parameters=None,\n",
      "                                                  verbosity=None))\n",
      "[-0.17082955 -0.17894967 -0.16537411 -0.16393336 -0.18156948] TransformedTargetRegressor(func=<ufunc 'log'>, inverse_func=<ufunc 'exp'>,\n",
      "                           regressor=XGBRegressor(base_score=None, booster=None,\n",
      "                                                  colsample_bylevel=None,\n",
      "                                                  colsample_bynode=None,\n",
      "                                                  colsample_bytree=None,\n",
      "                                                  enable_categorical=False,\n",
      "                                                  gamma=None, gpu_id=None,\n",
      "                                                  importance_type=None,\n",
      "                                                  interaction_constraints=None,\n",
      "                                                  learning_rate=None,\n",
      "                                                  max_delta_step=None,\n",
      "                                                  max_depth=None,\n",
      "                                                  min_child_weight=None,\n",
      "                                                  missing=nan,\n",
      "                                                  monotone_constraints=None,\n",
      "                                                  n_estimators=100, n_jobs=None,\n",
      "                                                  num_parallel_tree=None,\n",
      "                                                  predictor=None,\n",
      "                                                  random_state=1,\n",
      "                                                  reg_alpha=None,\n",
      "                                                  reg_lambda=None,\n",
      "                                                  scale_pos_weight=None,\n",
      "                                                  subsample=None,\n",
      "                                                  tree_method=None,\n",
      "                                                  validate_parameters=None,\n",
      "                                                  verbosity=None))\n"
     ]
    }
   ],
   "source": [
    "# Define algoritma yang digunakan\n",
    "lr = LinearRegression()\n",
    "knn = KNeighborsRegressor()\n",
    "dt = DecisionTreeRegressor(random_state=1)\n",
    "rf = RandomForestRegressor(random_state=1)\n",
    "xgb = XGBRegressor(random_state=1)\n",
    "\n",
    "# Pemodelan dilakukan dalam skala logaritmik, namun kemudian di-inverse kembali untuk interpretasi\n",
    "log_lr = TransformedTargetRegressor(lr, func=np.log, inverse_func=np.exp)\n",
    "log_knn = TransformedTargetRegressor(knn, func=np.log, inverse_func=np.exp)\n",
    "log_dt = TransformedTargetRegressor(dt, func=np.log, inverse_func=np.exp)\n",
    "log_rf = TransformedTargetRegressor(rf, func=np.log, inverse_func=np.exp)\n",
    "log_xgb = TransformedTargetRegressor(xgb, func=np.log, inverse_func=np.exp)\n",
    "\n",
    "# Scaling data\n",
    "scaler = StandardScaler()\n",
    "\n",
    "# Kandidat algoritma\n",
    "models = [log_lr, log_knn, log_dt, log_rf, log_xgb]\n",
    "\n",
    "score_rmse = []\n",
    "nilai_mean_rmse = []\n",
    "nilai_std_rmse = []\n",
    "\n",
    "score_mae = []\n",
    "nilai_mean_mae = []\n",
    "nilai_std_mae = []\n",
    "\n",
    "score_mape = []\n",
    "nilai_mean_mape = []\n",
    "nilai_std_mape = []\n",
    "\n",
    "# Mencari algoritma terbaik berdasarkan nilai MAE\n",
    "for i in models:\n",
    "    \n",
    "    crossval = KFold(n_splits=5, shuffle=True, random_state=1)\n",
    "\n",
    "    estimator = Pipeline([\n",
    "        ('preprocessing', transformer),\n",
    "        ('scaler', scaler),\n",
    "        ('model', i)\n",
    "    ])\n",
    "\n",
    "    # RMSE\n",
    "    model_cv_rmse = cross_val_score(\n",
    "        estimator, \n",
    "        X_train, \n",
    "        y_train, \n",
    "        cv=crossval, \n",
    "        scoring='neg_root_mean_squared_error', \n",
    "        error_score='raise'\n",
    "        )\n",
    "\n",
    "    print(model_cv_rmse, i)\n",
    "\n",
    "    score_rmse.append(model_cv_rmse)\n",
    "    nilai_mean_rmse.append(model_cv_rmse.mean())\n",
    "    nilai_std_rmse.append(model_cv_rmse.std())\n",
    "\n",
    "    # MAE\n",
    "    model_cv_mae = cross_val_score(\n",
    "        estimator, \n",
    "        X_train, \n",
    "        y_train, \n",
    "        cv=crossval, \n",
    "        scoring='neg_mean_absolute_error', \n",
    "        error_score='raise'\n",
    "        )\n",
    "\n",
    "    print(model_cv_mae, i)\n",
    "\n",
    "    score_mae.append(model_cv_mae)\n",
    "    nilai_mean_mae.append(model_cv_mae.mean())\n",
    "    nilai_std_mae.append(model_cv_mae.std())\n",
    "\n",
    "    # MAPE\n",
    "    model_cv_mape = cross_val_score(\n",
    "        estimator, \n",
    "        X_train, \n",
    "        y_train, \n",
    "        cv=crossval, \n",
    "        scoring='neg_mean_absolute_percentage_error', \n",
    "        error_score='raise'\n",
    "        )\n",
    "\n",
    "    print(model_cv_mape, i)\n",
    "\n",
    "    score_mape.append(model_cv_mape)\n",
    "    nilai_mean_mape.append(model_cv_mape.mean())\n",
    "    nilai_std_mape.append(model_cv_mape.std())"
   ]
  },
  {
   "cell_type": "code",
   "execution_count": 107,
   "id": "fd5e57c3",
   "metadata": {},
   "outputs": [
    {
     "data": {
      "text/html": [
       "<div>\n",
       "<style scoped>\n",
       "    .dataframe tbody tr th:only-of-type {\n",
       "        vertical-align: middle;\n",
       "    }\n",
       "\n",
       "    .dataframe tbody tr th {\n",
       "        vertical-align: top;\n",
       "    }\n",
       "\n",
       "    .dataframe thead th {\n",
       "        text-align: right;\n",
       "    }\n",
       "</style>\n",
       "<table border=\"1\" class=\"dataframe\">\n",
       "  <thead>\n",
       "    <tr style=\"text-align: right;\">\n",
       "      <th></th>\n",
       "      <th>Model</th>\n",
       "      <th>Mean_RMSE</th>\n",
       "      <th>Std_RMSE</th>\n",
       "      <th>Mean_MAE</th>\n",
       "      <th>Std_MAE</th>\n",
       "      <th>Mean_MAPE</th>\n",
       "      <th>Std_MAPE</th>\n",
       "    </tr>\n",
       "  </thead>\n",
       "  <tbody>\n",
       "    <tr>\n",
       "      <th>0</th>\n",
       "      <td>Linear Regression</td>\n",
       "      <td>-58735.571189</td>\n",
       "      <td>976.862045</td>\n",
       "      <td>-41575.986276</td>\n",
       "      <td>694.697439</td>\n",
       "      <td>-0.241905</td>\n",
       "      <td>0.008005</td>\n",
       "    </tr>\n",
       "    <tr>\n",
       "      <th>1</th>\n",
       "      <td>KNN Regressor</td>\n",
       "      <td>-55910.726539</td>\n",
       "      <td>1731.642241</td>\n",
       "      <td>-38404.692754</td>\n",
       "      <td>1065.684991</td>\n",
       "      <td>-0.218865</td>\n",
       "      <td>0.008597</td>\n",
       "    </tr>\n",
       "    <tr>\n",
       "      <th>2</th>\n",
       "      <td>DecisionTree Regressor</td>\n",
       "      <td>-65574.359156</td>\n",
       "      <td>1234.417665</td>\n",
       "      <td>-44029.318043</td>\n",
       "      <td>888.230411</td>\n",
       "      <td>-0.256046</td>\n",
       "      <td>0.008246</td>\n",
       "    </tr>\n",
       "    <tr>\n",
       "      <th>3</th>\n",
       "      <td>RandomForest Regressor</td>\n",
       "      <td>-46980.210237</td>\n",
       "      <td>1370.038302</td>\n",
       "      <td>-31056.465968</td>\n",
       "      <td>625.275077</td>\n",
       "      <td>-0.177291</td>\n",
       "      <td>0.007322</td>\n",
       "    </tr>\n",
       "    <tr>\n",
       "      <th>4</th>\n",
       "      <td>XGBoost Regressor</td>\n",
       "      <td>-44921.693724</td>\n",
       "      <td>1440.490067</td>\n",
       "      <td>-29956.131273</td>\n",
       "      <td>820.318508</td>\n",
       "      <td>-0.172131</td>\n",
       "      <td>0.007073</td>\n",
       "    </tr>\n",
       "  </tbody>\n",
       "</table>\n",
       "</div>"
      ],
      "text/plain": [
       "                    Model     Mean_RMSE     Std_RMSE      Mean_MAE  \\\n",
       "0       Linear Regression -58735.571189   976.862045 -41575.986276   \n",
       "1           KNN Regressor -55910.726539  1731.642241 -38404.692754   \n",
       "2  DecisionTree Regressor -65574.359156  1234.417665 -44029.318043   \n",
       "3  RandomForest Regressor -46980.210237  1370.038302 -31056.465968   \n",
       "4       XGBoost Regressor -44921.693724  1440.490067 -29956.131273   \n",
       "\n",
       "       Std_MAE  Mean_MAPE  Std_MAPE  \n",
       "0   694.697439  -0.241905  0.008005  \n",
       "1  1065.684991  -0.218865  0.008597  \n",
       "2   888.230411  -0.256046  0.008246  \n",
       "3   625.275077  -0.177291  0.007322  \n",
       "4   820.318508  -0.172131  0.007073  "
      ]
     },
     "execution_count": 107,
     "metadata": {},
     "output_type": "execute_result"
    }
   ],
   "source": [
    "# Evaluasi hasil dari 5 kandidat algoritma yang digunakan\n",
    "pd.DataFrame({\n",
    "    'Model': ['Linear Regression', 'KNN Regressor', 'DecisionTree Regressor', 'RandomForest Regressor', 'XGBoost Regressor'],\n",
    "    'Mean_RMSE': nilai_mean_rmse,\n",
    "    'Std_RMSE': nilai_std_rmse,\n",
    "    'Mean_MAE': nilai_mean_mae,\n",
    "    'Std_MAE': nilai_std_mae,\n",
    "    'Mean_MAPE': nilai_mean_mape,\n",
    "    'Std_MAPE': nilai_std_mape\n",
    "})"
   ]
  },
  {
   "cell_type": "markdown",
   "id": "df908658",
   "metadata": {},
   "source": [
    "Terdapat perbedaan cukup signifikan antara nilai RMSE dan MAE, di mana nilai RMSE lebih tinggi karena nilai residuals atau error-nya dikuadratkan terlebih dahulu sebelum dirata-ratakan. Hal ini menyebabkan RMSE akan memberikan 'weight' yang lebih tinggi untuk nilai error yang besar. Dengan kata lain, terdapat nilai-nilai error yang besar yang dihasilkan oleh semua algoritma yang digunakan, sehingga ada perbedaan signifikan antara nilai RMSE dan MAE.\n",
    "\n",
    "Berdasarkan nilai RMSE, XGBoost adalah model terbaik. Sedangkan jika berdasarkan nilai MAE dan MAPE, RandomForest memiliki nilai paling rendah.\n",
    "Selanjutnya, akan dilakukan prediksi pada test set dengan 2 benchmark model terbaik, yaitu XGBoost dan RandomForest."
   ]
  },
  {
   "cell_type": "markdown",
   "id": "b11266d5",
   "metadata": {},
   "source": [
    "**Predict to Test Set with the Benchmark Model**\n",
    "\n",
    "Prediksi pada test set dengan menggunakan model XGBoost dan Random Forest"
   ]
  },
  {
   "cell_type": "code",
   "execution_count": 108,
   "id": "a455a856",
   "metadata": {},
   "outputs": [
    {
     "data": {
      "text/html": [
       "<div>\n",
       "<style scoped>\n",
       "    .dataframe tbody tr th:only-of-type {\n",
       "        vertical-align: middle;\n",
       "    }\n",
       "\n",
       "    .dataframe tbody tr th {\n",
       "        vertical-align: top;\n",
       "    }\n",
       "\n",
       "    .dataframe thead th {\n",
       "        text-align: right;\n",
       "    }\n",
       "</style>\n",
       "<table border=\"1\" class=\"dataframe\">\n",
       "  <thead>\n",
       "    <tr style=\"text-align: right;\">\n",
       "      <th></th>\n",
       "      <th>RMSE</th>\n",
       "      <th>MAE</th>\n",
       "      <th>MAPE</th>\n",
       "    </tr>\n",
       "  </thead>\n",
       "  <tbody>\n",
       "    <tr>\n",
       "      <th>XGB</th>\n",
       "      <td>44028.969524</td>\n",
       "      <td>30095.865759</td>\n",
       "      <td>0.186148</td>\n",
       "    </tr>\n",
       "    <tr>\n",
       "      <th>RandomForest</th>\n",
       "      <td>45057.257030</td>\n",
       "      <td>30973.602019</td>\n",
       "      <td>0.191443</td>\n",
       "    </tr>\n",
       "  </tbody>\n",
       "</table>\n",
       "</div>"
      ],
      "text/plain": [
       "                      RMSE           MAE      MAPE\n",
       "XGB           44028.969524  30095.865759  0.186148\n",
       "RandomForest  45057.257030  30973.602019  0.191443"
      ]
     },
     "execution_count": 108,
     "metadata": {},
     "output_type": "execute_result"
    }
   ],
   "source": [
    "# Benchmark 2 model terbaik\n",
    "models = {\n",
    "    'XGB': XGBRegressor(random_state=1),\n",
    "    'RandomForest': RandomForestRegressor(random_state=1)\n",
    "}\n",
    "\n",
    "score_rmse = []\n",
    "score_mae = []\n",
    "score_mape = []\n",
    "\n",
    "# Prediksi pada test set\n",
    "for i in models:\n",
    "\n",
    "    model = Pipeline([\n",
    "        ('preprocessing', transformer),\n",
    "        ('scaler', scaler),\n",
    "        ('model', models[i])\n",
    "        ])\n",
    "\n",
    "    model.fit(X_train, y_train)\n",
    "    y_pred = model.predict(X_test)\n",
    "    score_rmse.append(np.sqrt(mean_squared_error(y_test, y_pred)))\n",
    "    score_mae.append(mean_absolute_error(y_test, y_pred))\n",
    "    score_mape.append(mean_absolute_percentage_error(y_test, y_pred))\n",
    "\n",
    "score_before_tuning = pd.DataFrame({'RMSE': score_rmse, 'MAE': score_mae, 'MAPE': score_mape}, index=models.keys())\n",
    "score_before_tuning"
   ]
  },
  {
   "cell_type": "markdown",
   "id": "deea4eac",
   "metadata": {},
   "source": [
    "Ketika dilakukan prediksi pada test set, performa XGBoost secara akumulatif sedikit lebih baik. Hal ini dapat dilihat dari nilai RMSE dan MAE yang sedikit lebih rendah dari RandomForest.\n",
    "Hyperparameter Tuning\n",
    "\n",
    "Karena model XGBoost memiliki performa yang sedikit lebih baik dari RandomForest, maka selanjutnya kita akan menggunakan model XGBoost ini sebagai model akhir. Pada tahap ini, kita akan melakukan hyperparameter tuning pada model XGBoost dengan harapan dapat meningkatkan performa model.\n",
    "\n",
    "Untuk panduan tuning model XGBoost, dapat merujuk ke Tuning XGBoost."
   ]
  },
  {
   "cell_type": "code",
   "execution_count": 109,
   "id": "55aefd3b",
   "metadata": {},
   "outputs": [],
   "source": [
    "# Kedalaman pohon\n",
    "max_depth = list(np.arange(1, 11))\n",
    "\n",
    "# Learning rate\n",
    "learning_rate = list(np.arange(1, 100)/100)\n",
    "\n",
    "# Jumlah pohon\n",
    "n_estimators = list(np.arange(100, 201))\n",
    "\n",
    "# Jumlah baris tiap pohon (% dari total baris train set)\n",
    "subsample = list(np.arange(2, 10)/10)\n",
    "\n",
    "# Gamma (min_impurity_decrease)\n",
    "gamma = list(np.arange(1, 11)) # Semakin besar nilainya, semakin konservatif/simpel modelnya\n",
    "\n",
    "# Jumlah feature yang digunakan untuk tiap pohon (% dari total kolom train set)\n",
    "colsample_bytree = list(np.arange(1, 10)/10)\n",
    "\n",
    "# Alpha (regularization)\n",
    "reg_alpha = list(np.logspace(-3, 1, 10)) # Semakin besar nilainya, semakin konservatif/simpel modelnya\n",
    "\n",
    "\n",
    "# Hyperparam space XGboost\n",
    "hyperparam_space_xgb = {\n",
    "    'model__max_depth': max_depth, \n",
    "    'model__learning_rate': learning_rate,\n",
    "    'model__n_estimators': n_estimators,\n",
    "    'model__subsample': subsample,\n",
    "    'model__gamma': gamma,\n",
    "    'model__colsample_bytree': colsample_bytree,\n",
    "    'model__reg_alpha': reg_alpha\n",
    "}"
   ]
  },
  {
   "cell_type": "code",
   "execution_count": 110,
   "id": "29011f9b",
   "metadata": {},
   "outputs": [],
   "source": [
    "# Benchmark model dengan hyperparameter tuning\n",
    "xgb = XGBRegressor(random_state=1, verbosity=0)\n",
    "\n",
    "# Membuat algorithm chains\n",
    "estimator_xgb = Pipeline([\n",
    "        ('preprocessing', transformer),\n",
    "        ('scaler', scaler),\n",
    "        ('model', xgb)\n",
    "        ])\n",
    "\n",
    "crossval = KFold(n_splits=5, shuffle=True, random_state=1)\n",
    "\n",
    "# Hyperparameter tuning\n",
    "random_xgb = RandomizedSearchCV(\n",
    "    estimator_xgb, \n",
    "    param_distributions = hyperparam_space_xgb,\n",
    "    n_iter = 50,\n",
    "    cv = crossval, \n",
    "    scoring = ['neg_root_mean_squared_error', 'neg_mean_absolute_error', 'neg_mean_absolute_percentage_error'], \n",
    "    n_jobs = -1,\n",
    "    refit = 'neg_root_mean_squared_error', # Hanya bisa memilih salah stau metric untuk optimisasi\n",
    "    random_state = 1  \n",
    ")"
   ]
  },
  {
   "cell_type": "code",
   "execution_count": 111,
   "id": "0505c5d3",
   "metadata": {},
   "outputs": [],
   "source": [
    "# Benchmark model dengan hyperparameter tuning\n",
    "xgb = XGBRegressor(random_state=1, verbosity=0)\n",
    "\n",
    "# Membuat algorithm chains\n",
    "estimator_xgb = Pipeline([\n",
    "        ('preprocessing', transformer),\n",
    "        ('scaler', scaler),\n",
    "        ('model', xgb)\n",
    "        ])\n",
    "\n",
    "crossval = KFold(n_splits=5, shuffle=True, random_state=1)\n",
    "\n",
    "# Hyperparameter tuning\n",
    "random_xgb = RandomizedSearchCV(\n",
    "    estimator_xgb, \n",
    "    param_distributions = hyperparam_space_xgb,\n",
    "    n_iter = 50,\n",
    "    cv = crossval, \n",
    "    scoring = ['neg_root_mean_squared_error', 'neg_mean_absolute_error', 'neg_mean_absolute_percentage_error'], \n",
    "    n_jobs = -1,\n",
    "    refit = 'neg_root_mean_squared_error', # Hanya bisa memilih salah stau metric untuk optimisasi\n",
    "    random_state = 1  \n",
    ")"
   ]
  },
  {
   "cell_type": "code",
   "execution_count": 113,
   "id": "af72e399",
   "metadata": {},
   "outputs": [
    {
     "data": {
      "text/plain": [
       "RandomizedSearchCV(cv=KFold(n_splits=5, random_state=1, shuffle=True),\n",
       "                   estimator=Pipeline(steps=[('preprocessing',\n",
       "                                              ColumnTransformer(remainder='passthrough',\n",
       "                                                                transformers=[('One '\n",
       "                                                                               'Hot',\n",
       "                                                                               OneHotEncoder(drop='first',\n",
       "                                                                                             handle_unknown='ignore'),\n",
       "                                                                               ['ocean_proximity'])])),\n",
       "                                             ('scaler', StandardScaler()),\n",
       "                                             ('model',\n",
       "                                              XGBRegressor(base_score=None,\n",
       "                                                           booster=None,\n",
       "                                                           colsample_byleve...\n",
       "                                                             0.007742636826811269,\n",
       "                                                             0.021544346900318832,\n",
       "                                                             0.05994842503189409,\n",
       "                                                             0.1668100537200059,\n",
       "                                                             0.46415888336127775,\n",
       "                                                             1.2915496650148828,\n",
       "                                                             3.593813663804626,\n",
       "                                                             10.0],\n",
       "                                        'model__subsample': [0.2, 0.3, 0.4, 0.5,\n",
       "                                                             0.6, 0.7, 0.8,\n",
       "                                                             0.9]},\n",
       "                   random_state=1, refit='neg_root_mean_squared_error',\n",
       "                   scoring=['neg_root_mean_squared_error',\n",
       "                            'neg_mean_absolute_error',\n",
       "                            'neg_mean_absolute_percentage_error'])"
      ]
     },
     "execution_count": 113,
     "metadata": {},
     "output_type": "execute_result"
    }
   ],
   "source": [
    "# Fitting data training untuk mencari parameter terbaik\n",
    "random_xgb.fit(X_train, y_train)"
   ]
  },
  {
   "cell_type": "code",
   "execution_count": 114,
   "id": "3aaeaf0d",
   "metadata": {},
   "outputs": [
    {
     "data": {
      "text/html": [
       "<div>\n",
       "<style scoped>\n",
       "    .dataframe tbody tr th:only-of-type {\n",
       "        vertical-align: middle;\n",
       "    }\n",
       "\n",
       "    .dataframe tbody tr th {\n",
       "        vertical-align: top;\n",
       "    }\n",
       "\n",
       "    .dataframe thead th {\n",
       "        text-align: right;\n",
       "    }\n",
       "</style>\n",
       "<table border=\"1\" class=\"dataframe\">\n",
       "  <thead>\n",
       "    <tr style=\"text-align: right;\">\n",
       "      <th></th>\n",
       "      <th>mean_fit_time</th>\n",
       "      <th>std_fit_time</th>\n",
       "      <th>mean_score_time</th>\n",
       "      <th>std_score_time</th>\n",
       "      <th>param_model__subsample</th>\n",
       "      <th>param_model__reg_alpha</th>\n",
       "      <th>param_model__n_estimators</th>\n",
       "      <th>param_model__max_depth</th>\n",
       "      <th>param_model__learning_rate</th>\n",
       "      <th>param_model__gamma</th>\n",
       "      <th>...</th>\n",
       "      <th>std_test_neg_mean_absolute_error</th>\n",
       "      <th>rank_test_neg_mean_absolute_error</th>\n",
       "      <th>split0_test_neg_mean_absolute_percentage_error</th>\n",
       "      <th>split1_test_neg_mean_absolute_percentage_error</th>\n",
       "      <th>split2_test_neg_mean_absolute_percentage_error</th>\n",
       "      <th>split3_test_neg_mean_absolute_percentage_error</th>\n",
       "      <th>split4_test_neg_mean_absolute_percentage_error</th>\n",
       "      <th>mean_test_neg_mean_absolute_percentage_error</th>\n",
       "      <th>std_test_neg_mean_absolute_percentage_error</th>\n",
       "      <th>rank_test_neg_mean_absolute_percentage_error</th>\n",
       "    </tr>\n",
       "  </thead>\n",
       "  <tbody>\n",
       "    <tr>\n",
       "      <th>7</th>\n",
       "      <td>4.417521</td>\n",
       "      <td>0.111860</td>\n",
       "      <td>0.018237</td>\n",
       "      <td>0.005999</td>\n",
       "      <td>0.9</td>\n",
       "      <td>0.059948</td>\n",
       "      <td>119</td>\n",
       "      <td>8</td>\n",
       "      <td>0.05</td>\n",
       "      <td>5</td>\n",
       "      <td>...</td>\n",
       "      <td>829.111123</td>\n",
       "      <td>1</td>\n",
       "      <td>-0.181568</td>\n",
       "      <td>-0.185041</td>\n",
       "      <td>-0.174398</td>\n",
       "      <td>-0.168112</td>\n",
       "      <td>-0.187317</td>\n",
       "      <td>-0.179287</td>\n",
       "      <td>0.007093</td>\n",
       "      <td>1</td>\n",
       "    </tr>\n",
       "    <tr>\n",
       "      <th>17</th>\n",
       "      <td>4.481504</td>\n",
       "      <td>0.081913</td>\n",
       "      <td>0.016829</td>\n",
       "      <td>0.001287</td>\n",
       "      <td>0.6</td>\n",
       "      <td>0.001</td>\n",
       "      <td>190</td>\n",
       "      <td>5</td>\n",
       "      <td>0.04</td>\n",
       "      <td>9</td>\n",
       "      <td>...</td>\n",
       "      <td>1047.916602</td>\n",
       "      <td>3</td>\n",
       "      <td>-0.196552</td>\n",
       "      <td>-0.202820</td>\n",
       "      <td>-0.192141</td>\n",
       "      <td>-0.182532</td>\n",
       "      <td>-0.205464</td>\n",
       "      <td>-0.195902</td>\n",
       "      <td>0.008156</td>\n",
       "      <td>2</td>\n",
       "    </tr>\n",
       "    <tr>\n",
       "      <th>20</th>\n",
       "      <td>1.885153</td>\n",
       "      <td>0.271820</td>\n",
       "      <td>0.016007</td>\n",
       "      <td>0.004092</td>\n",
       "      <td>0.9</td>\n",
       "      <td>0.007743</td>\n",
       "      <td>143</td>\n",
       "      <td>4</td>\n",
       "      <td>0.38</td>\n",
       "      <td>6</td>\n",
       "      <td>...</td>\n",
       "      <td>935.727045</td>\n",
       "      <td>2</td>\n",
       "      <td>-0.195048</td>\n",
       "      <td>-0.210052</td>\n",
       "      <td>-0.195092</td>\n",
       "      <td>-0.184287</td>\n",
       "      <td>-0.205950</td>\n",
       "      <td>-0.198086</td>\n",
       "      <td>0.009095</td>\n",
       "      <td>3</td>\n",
       "    </tr>\n",
       "    <tr>\n",
       "      <th>3</th>\n",
       "      <td>3.516737</td>\n",
       "      <td>0.183875</td>\n",
       "      <td>0.018336</td>\n",
       "      <td>0.002335</td>\n",
       "      <td>0.5</td>\n",
       "      <td>0.021544</td>\n",
       "      <td>166</td>\n",
       "      <td>8</td>\n",
       "      <td>0.1</td>\n",
       "      <td>9</td>\n",
       "      <td>...</td>\n",
       "      <td>1188.405379</td>\n",
       "      <td>4</td>\n",
       "      <td>-0.198532</td>\n",
       "      <td>-0.215027</td>\n",
       "      <td>-0.202459</td>\n",
       "      <td>-0.192295</td>\n",
       "      <td>-0.211617</td>\n",
       "      <td>-0.203986</td>\n",
       "      <td>0.008353</td>\n",
       "      <td>5</td>\n",
       "    </tr>\n",
       "    <tr>\n",
       "      <th>8</th>\n",
       "      <td>4.121681</td>\n",
       "      <td>0.105689</td>\n",
       "      <td>0.015986</td>\n",
       "      <td>0.002933</td>\n",
       "      <td>0.7</td>\n",
       "      <td>0.021544</td>\n",
       "      <td>182</td>\n",
       "      <td>6</td>\n",
       "      <td>0.31</td>\n",
       "      <td>2</td>\n",
       "      <td>...</td>\n",
       "      <td>867.808429</td>\n",
       "      <td>5</td>\n",
       "      <td>-0.204206</td>\n",
       "      <td>-0.208014</td>\n",
       "      <td>-0.203089</td>\n",
       "      <td>-0.189744</td>\n",
       "      <td>-0.204357</td>\n",
       "      <td>-0.201882</td>\n",
       "      <td>0.006291</td>\n",
       "      <td>4</td>\n",
       "    </tr>\n",
       "  </tbody>\n",
       "</table>\n",
       "<p>5 rows × 36 columns</p>\n",
       "</div>"
      ],
      "text/plain": [
       "    mean_fit_time  std_fit_time  mean_score_time  std_score_time  \\\n",
       "7        4.417521      0.111860         0.018237        0.005999   \n",
       "17       4.481504      0.081913         0.016829        0.001287   \n",
       "20       1.885153      0.271820         0.016007        0.004092   \n",
       "3        3.516737      0.183875         0.018336        0.002335   \n",
       "8        4.121681      0.105689         0.015986        0.002933   \n",
       "\n",
       "   param_model__subsample param_model__reg_alpha param_model__n_estimators  \\\n",
       "7                     0.9               0.059948                       119   \n",
       "17                    0.6                  0.001                       190   \n",
       "20                    0.9               0.007743                       143   \n",
       "3                     0.5               0.021544                       166   \n",
       "8                     0.7               0.021544                       182   \n",
       "\n",
       "   param_model__max_depth param_model__learning_rate param_model__gamma  ...  \\\n",
       "7                       8                       0.05                  5  ...   \n",
       "17                      5                       0.04                  9  ...   \n",
       "20                      4                       0.38                  6  ...   \n",
       "3                       8                        0.1                  9  ...   \n",
       "8                       6                       0.31                  2  ...   \n",
       "\n",
       "   std_test_neg_mean_absolute_error rank_test_neg_mean_absolute_error  \\\n",
       "7                        829.111123                                 1   \n",
       "17                      1047.916602                                 3   \n",
       "20                       935.727045                                 2   \n",
       "3                       1188.405379                                 4   \n",
       "8                        867.808429                                 5   \n",
       "\n",
       "    split0_test_neg_mean_absolute_percentage_error  \\\n",
       "7                                        -0.181568   \n",
       "17                                       -0.196552   \n",
       "20                                       -0.195048   \n",
       "3                                        -0.198532   \n",
       "8                                        -0.204206   \n",
       "\n",
       "    split1_test_neg_mean_absolute_percentage_error  \\\n",
       "7                                        -0.185041   \n",
       "17                                       -0.202820   \n",
       "20                                       -0.210052   \n",
       "3                                        -0.215027   \n",
       "8                                        -0.208014   \n",
       "\n",
       "    split2_test_neg_mean_absolute_percentage_error  \\\n",
       "7                                        -0.174398   \n",
       "17                                       -0.192141   \n",
       "20                                       -0.195092   \n",
       "3                                        -0.202459   \n",
       "8                                        -0.203089   \n",
       "\n",
       "    split3_test_neg_mean_absolute_percentage_error  \\\n",
       "7                                        -0.168112   \n",
       "17                                       -0.182532   \n",
       "20                                       -0.184287   \n",
       "3                                        -0.192295   \n",
       "8                                        -0.189744   \n",
       "\n",
       "    split4_test_neg_mean_absolute_percentage_error  \\\n",
       "7                                        -0.187317   \n",
       "17                                       -0.205464   \n",
       "20                                       -0.205950   \n",
       "3                                        -0.211617   \n",
       "8                                        -0.204357   \n",
       "\n",
       "    mean_test_neg_mean_absolute_percentage_error  \\\n",
       "7                                      -0.179287   \n",
       "17                                     -0.195902   \n",
       "20                                     -0.198086   \n",
       "3                                      -0.203986   \n",
       "8                                      -0.201882   \n",
       "\n",
       "    std_test_neg_mean_absolute_percentage_error  \\\n",
       "7                                      0.007093   \n",
       "17                                     0.008156   \n",
       "20                                     0.009095   \n",
       "3                                      0.008353   \n",
       "8                                      0.006291   \n",
       "\n",
       "    rank_test_neg_mean_absolute_percentage_error  \n",
       "7                                              1  \n",
       "17                                             2  \n",
       "20                                             3  \n",
       "3                                              5  \n",
       "8                                              4  \n",
       "\n",
       "[5 rows x 36 columns]"
      ]
     },
     "execution_count": 114,
     "metadata": {},
     "output_type": "execute_result"
    }
   ],
   "source": [
    "# Melihat hasil tuning dalam bentuk dataframe. Diurutkan berdasarkan RMSE, MAE & MAPE\n",
    "pd.DataFrame(random_xgb.cv_results_).sort_values(by=['rank_test_neg_root_mean_squared_error', 'rank_test_neg_mean_absolute_error', 'rank_test_neg_mean_absolute_percentage_error']).head()"
   ]
  },
  {
   "cell_type": "code",
   "execution_count": 115,
   "id": "193babec",
   "metadata": {},
   "outputs": [
    {
     "name": "stdout",
     "output_type": "stream",
     "text": [
      "XGBoost\n",
      "Best_score: -43951.87772553768\n",
      "Best_params: {'model__subsample': 0.9, 'model__reg_alpha': 0.05994842503189409, 'model__n_estimators': 119, 'model__max_depth': 8, 'model__learning_rate': 0.05, 'model__gamma': 5, 'model__colsample_bytree': 0.8}\n"
     ]
    }
   ],
   "source": [
    "# Cek skor dan params terbaik\n",
    "print('XGBoost')\n",
    "print('Best_score:', random_xgb.best_score_)\n",
    "print('Best_params:', random_xgb.best_params_)"
   ]
  },
  {
   "cell_type": "markdown",
   "id": "552f3c88",
   "metadata": {},
   "source": [
    "### Predict to Test Set with The Tuned Model"
   ]
  },
  {
   "cell_type": "code",
   "execution_count": 116,
   "id": "06276a69",
   "metadata": {},
   "outputs": [
    {
     "data": {
      "text/html": [
       "<div>\n",
       "<style scoped>\n",
       "    .dataframe tbody tr th:only-of-type {\n",
       "        vertical-align: middle;\n",
       "    }\n",
       "\n",
       "    .dataframe tbody tr th {\n",
       "        vertical-align: top;\n",
       "    }\n",
       "\n",
       "    .dataframe thead th {\n",
       "        text-align: right;\n",
       "    }\n",
       "</style>\n",
       "<table border=\"1\" class=\"dataframe\">\n",
       "  <thead>\n",
       "    <tr style=\"text-align: right;\">\n",
       "      <th></th>\n",
       "      <th>RMSE</th>\n",
       "      <th>MAE</th>\n",
       "      <th>MAPE</th>\n",
       "    </tr>\n",
       "  </thead>\n",
       "  <tbody>\n",
       "    <tr>\n",
       "      <th>XGB</th>\n",
       "      <td>42432.941194</td>\n",
       "      <td>28860.963323</td>\n",
       "      <td>0.17512</td>\n",
       "    </tr>\n",
       "  </tbody>\n",
       "</table>\n",
       "</div>"
      ],
      "text/plain": [
       "             RMSE           MAE     MAPE\n",
       "XGB  42432.941194  28860.963323  0.17512"
      ]
     },
     "execution_count": 116,
     "metadata": {},
     "output_type": "execute_result"
    }
   ],
   "source": [
    "# Model XGBoost\n",
    "model = {'XGB': XGBRegressor(random_state=1)}\n",
    "\n",
    "# Define model terhadap estimator terbaik\n",
    "xgb_tuning = random_xgb.best_estimator_\n",
    "\n",
    "# Fitting model\n",
    "xgb_tuning.fit(X_train, y_train)\n",
    "\n",
    "# Predict test set\n",
    "y_pred_xgb_tuning = xgb_tuning.predict(X_test)\n",
    "\n",
    "# Simpan nilai metrics RMSE, MAE & MAPE setelah tuning\n",
    "rmse_xgb_tuning = np.sqrt(mean_squared_error(y_test, y_pred_xgb_tuning))\n",
    "mae_xgb_tuning = mean_absolute_error(y_test, y_pred_xgb_tuning)\n",
    "mape_xgb_tuning = mean_absolute_percentage_error(y_test, y_pred_xgb_tuning)\n",
    "\n",
    "score_after_tuning = pd.DataFrame({'RMSE': rmse_xgb_tuning, 'MAE': mae_xgb_tuning, 'MAPE': mape_xgb_tuning}, index=model.keys())\n",
    "score_after_tuning"
   ]
  },
  {
   "cell_type": "markdown",
   "id": "8c69db22",
   "metadata": {},
   "source": [
    "### Performance Comparison \n",
    "\n",
    "Perbandingan performa model XGBoost sebelum dan sesudah dilakukan hyperparameter tuning."
   ]
  },
  {
   "cell_type": "code",
   "execution_count": 117,
   "id": "575f9d73",
   "metadata": {},
   "outputs": [
    {
     "data": {
      "text/html": [
       "<div>\n",
       "<style scoped>\n",
       "    .dataframe tbody tr th:only-of-type {\n",
       "        vertical-align: middle;\n",
       "    }\n",
       "\n",
       "    .dataframe tbody tr th {\n",
       "        vertical-align: top;\n",
       "    }\n",
       "\n",
       "    .dataframe thead th {\n",
       "        text-align: right;\n",
       "    }\n",
       "</style>\n",
       "<table border=\"1\" class=\"dataframe\">\n",
       "  <thead>\n",
       "    <tr style=\"text-align: right;\">\n",
       "      <th></th>\n",
       "      <th>RMSE</th>\n",
       "      <th>MAE</th>\n",
       "      <th>MAPE</th>\n",
       "    </tr>\n",
       "  </thead>\n",
       "  <tbody>\n",
       "    <tr>\n",
       "      <th>XGB</th>\n",
       "      <td>44028.969524</td>\n",
       "      <td>30095.865759</td>\n",
       "      <td>0.186148</td>\n",
       "    </tr>\n",
       "  </tbody>\n",
       "</table>\n",
       "</div>"
      ],
      "text/plain": [
       "             RMSE           MAE      MAPE\n",
       "XGB  44028.969524  30095.865759  0.186148"
      ]
     },
     "execution_count": 117,
     "metadata": {},
     "output_type": "execute_result"
    }
   ],
   "source": [
    "# Sebelum hyperparameter tuning\n",
    "pd.DataFrame(score_before_tuning.loc['XGB']).T"
   ]
  },
  {
   "cell_type": "code",
   "execution_count": 118,
   "id": "06177000",
   "metadata": {},
   "outputs": [
    {
     "data": {
      "text/html": [
       "<div>\n",
       "<style scoped>\n",
       "    .dataframe tbody tr th:only-of-type {\n",
       "        vertical-align: middle;\n",
       "    }\n",
       "\n",
       "    .dataframe tbody tr th {\n",
       "        vertical-align: top;\n",
       "    }\n",
       "\n",
       "    .dataframe thead th {\n",
       "        text-align: right;\n",
       "    }\n",
       "</style>\n",
       "<table border=\"1\" class=\"dataframe\">\n",
       "  <thead>\n",
       "    <tr style=\"text-align: right;\">\n",
       "      <th></th>\n",
       "      <th>RMSE</th>\n",
       "      <th>MAE</th>\n",
       "      <th>MAPE</th>\n",
       "    </tr>\n",
       "  </thead>\n",
       "  <tbody>\n",
       "    <tr>\n",
       "      <th>XGB</th>\n",
       "      <td>42432.941194</td>\n",
       "      <td>28860.963323</td>\n",
       "      <td>0.17512</td>\n",
       "    </tr>\n",
       "  </tbody>\n",
       "</table>\n",
       "</div>"
      ],
      "text/plain": [
       "             RMSE           MAE     MAPE\n",
       "XGB  42432.941194  28860.963323  0.17512"
      ]
     },
     "execution_count": 118,
     "metadata": {},
     "output_type": "execute_result"
    }
   ],
   "source": [
    "# Setelah hyperparameter tuning\n",
    "score_after_tuning"
   ]
  },
  {
   "cell_type": "code",
   "execution_count": 119,
   "id": "d87b8543",
   "metadata": {},
   "outputs": [
    {
     "data": {
      "image/png": "[encoded data removed]",
      "text/plain": [
       "<Figure size 1008x576 with 1 Axes>"
      ]
     },
     "metadata": {},
     "output_type": "display_data"
    }
   ],
   "source": [
    "plt.figure(figsize=(14, 8))\n",
    "plot = sns.scatterplot(x=y_test, y=y_pred_xgb_tuning).set(title='Actual vs. Prediction Price', \n",
    "                                               xlabel='Actual Price', \n",
    "                                               ylabel='Predicted Price');"
   ]
  },
  {
   "cell_type": "markdown",
   "id": "149edced",
   "metadata": {},
   "source": [
    "#### Feature Importances\n",
    "Untuk dapat mengetahui sebenarnya fitur apa saja yang sangat memengaruhi target (median_house_value), kita dapat mengeceknya melalui function feature_importances."
   ]
  },
  {
   "cell_type": "code",
   "execution_count": null,
   "id": "2a2b7e91",
   "metadata": {},
   "outputs": [],
   "source": [
    "# Plot feature importances\n",
    "feature_imp = pd.Series(xgb_tuning['model'].feature_importances_, transformer.get_feature_names()).sort_values(ascending = False).head()\n",
    "feature_imp.plot(kind='barh', title='Feature Importances');"
   ]
  },
  {
   "cell_type": "markdown",
   "id": "aa82d6d1",
   "metadata": {},
   "source": [
    "### Conclusion"
   ]
  },
  {
   "cell_type": "markdown",
   "id": "08da3b2b",
   "metadata": {},
   "source": [
    "Berdasarkan pemodelan yang sudah dilakukan, fitur 'ocean_proximity' dan 'median_income' menjadi fitur yang paling berpengaruh terhadap 'median_house_value'.\n",
    "\n",
    "Metrik evaluasi yang digunakan pada model adalah nilai RMSE, MAE & MAPE. Jika ditinjau dari nilai RMSE yang dihasilkan oleh model setelah dilakukan hyperparameter tuning, yaitu sebesar 42432.94, kita dapat menyimpulkan bahwa bila nanti model yang kita buat ini digunakan untuk memperkirakan harga rumah di California pada rentang nilai seperti yang dilatih terhadap model, maka perkiraan harganya rata-rata akan meleset kurang lebih sebesar USD 43 dari harga yang mungkin seharusnya. Tetapi, tidak menutup kemungkinan juga prediksinya meleset lebih jauh karena bias yang dihasilkan model masih cukup tinggi bila dilihat dari visualisasi antara harga aktual dan prediksi. Bias yang dihasilkan oleh model ini dikarenakan oleh kurangnya fitur pada dataset yang bisa merepresentasikan aspek rumah lainnya."
   ]
  },
  {
   "cell_type": "markdown",
   "id": "68cf1a57",
   "metadata": {},
   "source": [
    "### Recommendation\n",
    "\n",
    "Hal-hal yang dapat dilakukan untuk mengembangkan model agar lebih baik lagi, seperti:\n",
    "\n",
    "1. Jika memungkinkan, penambahan fitur yang lebih korelatif dengan target ('median_housinng_value'), seperti fasilitas lainnya  atau jarak ke pusat kota. Selain itu, adanya penambahan data terkini untuk data survey sensus California tentu akan dapat mengimprovisasi kapasitas prediksi dari model.\n",
    "<br><br>   \n",
    "\n",
    "2. Melihat kembali data predict, data mana saja yang memiliki nilai error yang tinggi. dan membandingan feature - feature mana saja yang menyebabkan model menghasilkan error tersebut dan aspek apa yang menyebabkan model menghasilkan error yang tinggi, sehingga kita dapat melakukan trainning ulang dengan penerapan feature enggineering lainnya. \n"
   ]
  },
  {
   "cell_type": "markdown",
   "id": "5c510061",
   "metadata": {},
   "source": [
    "## Save Model"
   ]
  },
  {
   "cell_type": "code",
   "execution_count": 124,
   "id": "69f95a4c",
   "metadata": {},
   "outputs": [],
   "source": [
    "# Save model\n",
    "import pickle\n",
    "\n",
    "# Final Model XGBoost\n",
    "model = {'XGBoost': XGBRegressor(random_state=0)}\n",
    "\n",
    "# Define model terhadap estimator terbaik\n",
    "final_model = random_xgb.best_estimator_\n",
    "\n",
    "# Fitting model\n",
    "final_model.fit(X_train, y_train)\n",
    "\n",
    "# Prdict test set\n",
    "y2_pred_final_model = final_model.predict(X_test)\n",
    "\n",
    "# Simpan nilai metrics RMSEE setelah tuning\n",
    "rmse_final_model =  np.sqrt(mean_squared_error(y_test, y_pred_xgb_tuning))\n",
    "\n",
    "pickle.dump(final_model, open('Model_California_house_XGB.sav', 'wb'))\n",
    "\n"
   ]
  },
  {
   "cell_type": "code",
   "execution_count": null,
   "id": "b2d5dcc9",
   "metadata": {},
   "outputs": [],
   "source": []
  }
 ],
 "metadata": {
  "kernelspec": {
   "display_name": "Python 3",
   "language": "python",
   "name": "python3"
  },
  "language_info": {
   "codemirror_mode": {
    "name": "ipython",
    "version": 3
   },
   "file_extension": ".py",
   "mimetype": "text/x-python",
   "name": "python",
   "nbconvert_exporter": "python",
   "pygments_lexer": "ipython3",
   "version": "3.8.8"
  }
 },
 "nbformat": 4,
 "nbformat_minor": 5
}
